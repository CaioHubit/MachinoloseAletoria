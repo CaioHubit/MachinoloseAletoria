{
 "cells": [
  {
   "cell_type": "code",
   "execution_count": 1,
   "id": "6f03af24-ce59-4bfc-bb46-05985841f340",
   "metadata": {},
   "outputs": [],
   "source": [
    "from sklearn.model_selection import train_test_split\n",
    "from sklearn.dummy import DummyRegressor\n",
    "from sklearn.metrics import mean_squared_error\n",
    "from sklearn.linear_model import LinearRegression\n",
    "import scipy as sp\n",
    "import statsmodels.formula.api as sm\n",
    "from sklearn.inspection import permutation_importance\n",
    "from itertools import product"
   ]
  },
  {
   "cell_type": "code",
   "execution_count": 2,
   "id": "d9b2f6d1-b412-4244-84e4-e2e49190eb94",
   "metadata": {},
   "outputs": [],
   "source": [
    "import numpy as np\n",
    "import pandas as pd\n",
    "import seaborn as sns\n",
    "import matplotlib.pyplot as plt\n",
    "\n",
    "#no dado original, havia uma coluna sem nome (com os indexes). seria difícil remover assim. Nomeei-a de \"A\", para priorizar \n",
    "#o index do pandas.\n",
    "\n",
    "# Função para normalizar todas as colunas de um dataframe pelo método de valor mínimo 0 e máximo 1\n",
    "def normalizar(df):\n",
    "    resultado = df.copy()\n",
    "    for coluna in df.columns:\n",
    "        if df[coluna].max() == 0:\n",
    "            continue\n",
    "        else:\n",
    "            valor_max = df[coluna].max()\n",
    "            valor_min = df[coluna].min()\n",
    "            resultado[coluna] = (df[coluna] - valor_min) / (valor_max - valor_min)\n",
    "    return resultado\n"
   ]
  },
  {
   "cell_type": "code",
   "execution_count": 3,
   "id": "546cd834-8e51-4b52-b74f-23dbbfec6790",
   "metadata": {
    "tags": []
   },
   "outputs": [
    {
     "name": "stdout",
     "output_type": "stream",
     "text": [
      "     Mohs Hardness  Specific Gravity  Refractive Index  Molar Mass  \\\n",
      "0             4.50             3.240             1.580  817.339002   \n",
      "1             2.75             3.446             1.592  435.069330   \n",
      "2             2.00             4.420             2.085  921.092220   \n",
      "4             5.50             1.050             1.634  861.185368   \n",
      "5             3.50             3.295             1.457  225.618151   \n",
      "..             ...               ...               ...         ...   \n",
      "803           7.50             4.650             1.928  526.041800   \n",
      "805           6.50             3.230             1.702  379.378178   \n",
      "806           3.50             2.180             1.590  492.887716   \n",
      "807           7.00             3.411             1.596  263.580584   \n",
      "808           0.00             3.146             1.633  576.801907   \n",
      "\n",
      "     Molar Volume  Calculated Density  \n",
      "0        0.123390               5.498  \n",
      "1        0.056083               6.439  \n",
      "2        0.122631               6.234  \n",
      "4        0.112074               6.378  \n",
      "5        0.044887               4.172  \n",
      "..            ...                 ...  \n",
      "803      0.078468               5.564  \n",
      "805      0.100890               3.121  \n",
      "806      0.078566               5.207  \n",
      "807      0.089458               2.446  \n",
      "808      0.078605               6.091  \n",
      "\n",
      "[588 rows x 6 columns]\n"
     ]
    }
   ],
   "source": [
    "#criando o DataFrame \"df_chem\"\n",
    "df = pd.read_csv(\"Minerals_Database3.csv\")  # Importação do dataset para ser utilizado como dataframe\n",
    "# Remoção de colunas não necessárias para o dataframe\n",
    "\n",
    "df = df.drop(['A'], axis=1)\n",
    "df = df.drop(['Name'], axis=1)\n",
    "\n",
    "dados_cat = df.reindex(df.columns[[0,2,4]], axis = 1) # Remoção de dados categóricos\n",
    "dados_categoricos = dados_cat.astype(\"category\") # Tratamento de dados para o tipo categórico\n",
    "newlist = [x for x in range(7,135)] # Range para pegarmos dados que estão em porcentagem\n",
    "porcent_df = df.reindex(df.columns[newlist], axis = 1) # Coleta dos dados de elementos em porcentagem\n",
    "df_chem = df.reindex(df.columns[[1,3,5,135,136,137]], axis=1) # Reindexação de um dataframe contendo apenas propriedades fisico-químicas\n",
    "df_chem\n",
    "df_chem, dados_categoricos\n",
    "\n",
    "df_remove=df_chem.loc[(df_chem[\"Refractive Index\"] == 0.000)] #remove as linhas (objetos), cujo valor do índice de refração é 0\n",
    "\n",
    "df_chem = df_chem.drop(df_remove.index) #considera que o dataframe df_chem é o dataframe com as linhas removidas\n",
    "print(df_chem)"
   ]
  },
  {
   "cell_type": "code",
   "execution_count": 4,
   "id": "d2378f28-8c0b-49bf-9482-344298145737",
   "metadata": {
    "tags": []
   },
   "outputs": [
    {
     "name": "stdout",
     "output_type": "stream",
     "text": [
      "       Mohs Hardness  Specific Gravity  Refractive Index   Molar Mass  \\\n",
      "count     588.000000        588.000000        588.000000   588.000000   \n",
      "mean        3.879779          3.067937          1.712794   474.243503   \n",
      "std         1.964125          1.552768          0.241588   470.660380   \n",
      "min         0.000000          0.000000          0.989000    25.011580   \n",
      "25%         2.500000          2.394750          1.570000   190.132605   \n",
      "50%         3.500000          3.050000          1.646000   330.319673   \n",
      "75%         5.500000          3.750500          1.773000   573.779844   \n",
      "max         9.500000          9.593000          3.383000  4079.341200   \n",
      "\n",
      "       Molar Volume  Calculated Density  \n",
      "count    588.000000          588.000000  \n",
      "mean       0.099284            4.793639  \n",
      "std        0.102466            2.706052  \n",
      "min        0.011040            0.635000  \n",
      "25%        0.033789            2.778750  \n",
      "50%        0.067282            4.145000  \n",
      "75%        0.123304            6.240250  \n",
      "max        1.209774           13.893000  \n"
     ]
    },
    {
     "data": {
      "text/plain": [
       "<bound method DataFrame.mode of      Mohs Hardness  Specific Gravity  Refractive Index  Molar Mass  \\\n",
       "0             4.50             3.240             1.580  817.339002   \n",
       "1             2.75             3.446             1.592  435.069330   \n",
       "2             2.00             4.420             2.085  921.092220   \n",
       "4             5.50             1.050             1.634  861.185368   \n",
       "5             3.50             3.295             1.457  225.618151   \n",
       "..             ...               ...               ...         ...   \n",
       "803           7.50             4.650             1.928  526.041800   \n",
       "805           6.50             3.230             1.702  379.378178   \n",
       "806           3.50             2.180             1.590  492.887716   \n",
       "807           7.00             3.411             1.596  263.580584   \n",
       "808           0.00             3.146             1.633  576.801907   \n",
       "\n",
       "     Molar Volume  Calculated Density  \n",
       "0        0.123390               5.498  \n",
       "1        0.056083               6.439  \n",
       "2        0.122631               6.234  \n",
       "4        0.112074               6.378  \n",
       "5        0.044887               4.172  \n",
       "..            ...                 ...  \n",
       "803      0.078468               5.564  \n",
       "805      0.100890               3.121  \n",
       "806      0.078566               5.207  \n",
       "807      0.089458               2.446  \n",
       "808      0.078605               6.091  \n",
       "\n",
       "[588 rows x 6 columns]>"
      ]
     },
     "execution_count": 4,
     "metadata": {},
     "output_type": "execute_result"
    }
   ],
   "source": [
    "# Computação e análise descritiva e estatística dos dados\n",
    "\n",
    "# Valores de média, desvio padrão, mínimos e máximos, Q1, mediana e Q3\n",
    "print(df_chem.describe())\n",
    "\n",
    "# Moda do dataframe\n",
    "df_chem.mode"
   ]
  },
  {
   "cell_type": "code",
   "execution_count": 5,
   "id": "676a8b16-03ac-4636-9fe4-bac6f28653db",
   "metadata": {},
   "outputs": [],
   "source": [
    "from sklearn.model_selection import train_test_split\n",
    "from sklearn.dummy import DummyRegressor\n",
    "from sklearn.metrics import mean_squared_error\n",
    "from sklearn.linear_model import LinearRegression\n",
    "\n",
    "tamanho = 0.25 # Fração de dados escolhida para treino e teste\n",
    "seed = 2000\n",
    "\n",
    "i = df_chem.index\n",
    "i_treino, i_teste = train_test_split(i, test_size=tamanho, random_state = seed)\n",
    "\n",
    "df_treino = df_chem.loc[i_treino]\n",
    "df_teste = df_chem.loc[i_teste]\n",
    "\n",
    "#print(df_treino)\n",
    "#print()\n",
    "#print(df_teste)"
   ]
  },
  {
   "cell_type": "code",
   "execution_count": 6,
   "id": "e1cecbf1-28a7-473e-8971-3d463669755d",
   "metadata": {},
   "outputs": [],
   "source": [
    "# Modelo preditivo\n",
    "# Definições de atributos e targets\n",
    "nome = 'df_chem'\n",
    "atributos = [\"Specific Gravity\", \"Mohs Hardness\", 'Molar Mass', 'Molar Volume', 'Calculated Density']\n",
    "target = [\"Refractive Index\"]\n",
    "\n",
    "X_treino = df_treino.reindex(atributos, axis=1).values\n",
    "y_treino = df_treino.reindex(target, axis=1).values\n",
    "X_teste = df_teste.reindex(atributos, axis=1).values\n",
    "y_teste = df_teste.reindex(target, axis=1).values"
   ]
  },
  {
   "cell_type": "markdown",
   "id": "f26ee6bd-8e04-4ed0-916f-e32ef6aa696d",
   "metadata": {},
   "source": [
    "### Baseline"
   ]
  },
  {
   "cell_type": "code",
   "execution_count": 7,
   "id": "a70f35a3-b901-4970-b615-e95fb1ab3416",
   "metadata": {
    "tags": []
   },
   "outputs": [
    {
     "name": "stdout",
     "output_type": "stream",
     "text": [
      "[1.71836735 1.71836735 1.71836735 1.71836735 1.71836735 1.71836735\n",
      " 1.71836735 1.71836735 1.71836735 1.71836735 1.71836735 1.71836735\n",
      " 1.71836735 1.71836735 1.71836735 1.71836735 1.71836735 1.71836735\n",
      " 1.71836735 1.71836735 1.71836735 1.71836735 1.71836735 1.71836735\n",
      " 1.71836735 1.71836735 1.71836735 1.71836735 1.71836735 1.71836735\n",
      " 1.71836735 1.71836735 1.71836735 1.71836735 1.71836735 1.71836735\n",
      " 1.71836735 1.71836735 1.71836735 1.71836735 1.71836735 1.71836735\n",
      " 1.71836735 1.71836735 1.71836735 1.71836735 1.71836735 1.71836735\n",
      " 1.71836735 1.71836735 1.71836735 1.71836735 1.71836735 1.71836735\n",
      " 1.71836735 1.71836735 1.71836735 1.71836735 1.71836735 1.71836735\n",
      " 1.71836735 1.71836735 1.71836735 1.71836735 1.71836735 1.71836735\n",
      " 1.71836735 1.71836735 1.71836735 1.71836735 1.71836735 1.71836735\n",
      " 1.71836735 1.71836735 1.71836735 1.71836735 1.71836735 1.71836735\n",
      " 1.71836735 1.71836735 1.71836735 1.71836735 1.71836735 1.71836735\n",
      " 1.71836735 1.71836735 1.71836735 1.71836735 1.71836735 1.71836735\n",
      " 1.71836735 1.71836735 1.71836735 1.71836735 1.71836735 1.71836735\n",
      " 1.71836735 1.71836735 1.71836735 1.71836735 1.71836735 1.71836735\n",
      " 1.71836735 1.71836735 1.71836735 1.71836735 1.71836735 1.71836735\n",
      " 1.71836735 1.71836735 1.71836735 1.71836735 1.71836735 1.71836735\n",
      " 1.71836735 1.71836735 1.71836735 1.71836735 1.71836735 1.71836735\n",
      " 1.71836735 1.71836735 1.71836735 1.71836735 1.71836735 1.71836735\n",
      " 1.71836735 1.71836735 1.71836735 1.71836735 1.71836735 1.71836735\n",
      " 1.71836735 1.71836735 1.71836735 1.71836735 1.71836735 1.71836735\n",
      " 1.71836735 1.71836735 1.71836735 1.71836735 1.71836735 1.71836735\n",
      " 1.71836735 1.71836735 1.71836735]\n"
     ]
    }
   ],
   "source": [
    "modelo_baseline = DummyRegressor()# Criação do Modelo fictício\n",
    "\n",
    "modelo_baseline.fit(X_treino, y_treino) # Treino do Modelo fictício\n",
    "\n",
    "previsao = modelo_baseline.predict(X_teste) # Previsão do modelo a partir do treino\n",
    "print(previsao)"
   ]
  },
  {
   "cell_type": "code",
   "execution_count": 8,
   "id": "ea6489d0-88b9-4992-8f22-7d2b168abd53",
   "metadata": {},
   "outputs": [
    {
     "name": "stdout",
     "output_type": "stream",
     "text": [
      "A RMSE do modelo de baseline foi uma Indice Refrativo de  0.2030\n"
     ]
    }
   ],
   "source": [
    "y_verdadeiro = y_teste\n",
    "y_previsao = modelo_baseline.predict(X_teste)\n",
    "RMSE = mean_squared_error(y_verdadeiro, y_previsao, squared=False) # Método da raiz quadrada do erro quadrático médio\n",
    "print(f'A RMSE do modelo de baseline foi uma Indice Refrativo de {RMSE: .4f}')\n",
    "#print(y_verdadeiro)"
   ]
  },
  {
   "cell_type": "code",
   "execution_count": 9,
   "id": "58ef6179-2297-465a-a0da-6075123f10e7",
   "metadata": {
    "tags": []
   },
   "outputs": [
    {
     "name": "stdout",
     "output_type": "stream",
     "text": [
      "     Mohs Hardness  Specific Gravity  Refractive Index   Molar Mass  \\\n",
      "615           0.00             5.700             1.737   298.038100   \n",
      "194           5.50             4.650             2.120   123.842500   \n",
      "306           4.50             2.285             1.516   257.230046   \n",
      "82            0.00             4.380             1.793   426.292200   \n",
      "339           3.00             6.420             2.358  1560.452603   \n",
      "..             ...               ...               ...          ...   \n",
      "64            2.50             1.715             1.513   155.071500   \n",
      "29            6.25             2.625             1.535   411.331124   \n",
      "762           5.50             0.000             1.495   340.284075   \n",
      "367           1.00             3.197             1.641   490.595370   \n",
      "250           5.00             4.535             2.069   656.503600   \n",
      "\n",
      "     Molar Volume  Calculated Density  \n",
      "615      0.033606               7.361  \n",
      "194      0.011210               9.169  \n",
      "306      0.033718               6.332  \n",
      "82       0.067053               5.277  \n",
      "339      0.190472               6.800  \n",
      "..            ...                 ...  \n",
      "64       0.033455               3.847  \n",
      "29       0.089706               3.806  \n",
      "762      0.089726               3.148  \n",
      "367      0.044914               9.066  \n",
      "250      0.100857               5.403  \n",
      "\n",
      "[441 rows x 6 columns]\n",
      "\n",
      "     Mohs Hardness  Specific Gravity  Refractive Index   Molar Mass  \\\n",
      "470           4.25             3.660             1.690   277.129780   \n",
      "611           2.50             2.290             1.536   223.971720   \n",
      "252           5.00             3.070             1.651   250.753231   \n",
      "716           6.00             2.820             1.627   746.816808   \n",
      "532           3.00             2.305             1.525  1095.418700   \n",
      "..             ...               ...               ...          ...   \n",
      "424           3.25             6.241             2.117   258.652100   \n",
      "388           5.50             3.240             1.711   925.116139   \n",
      "283           4.00             3.306             1.441    59.076403   \n",
      "454           3.75             2.270             1.524   613.908400   \n",
      "200           5.50             3.305             1.666   215.566380   \n",
      "\n",
      "     Molar Volume  Calculated Density  \n",
      "470      0.033683               6.829  \n",
      "611      0.179271               1.037  \n",
      "252      0.078441               2.653  \n",
      "716      0.235392               2.633  \n",
      "532      0.258006               3.524  \n",
      "..            ...                 ...  \n",
      "424      0.022244               9.651  \n",
      "388      0.123484               6.218  \n",
      "283      0.011228               4.367  \n",
      "454      0.123403               4.129  \n",
      "200      0.078447               2.281  \n",
      "\n",
      "[147 rows x 6 columns]\n"
     ]
    }
   ],
   "source": [
    "tamanho = 0.25 # Fração de dados escolhida para treino e teste\n",
    "seed = 567\n",
    "\n",
    "i = df_chem.index\n",
    "i_treino, i_teste = train_test_split(i, test_size=tamanho, random_state = seed) #Split entre dados treino e teste\n",
    "\n",
    "df_treino = df_chem.loc[i_treino]\n",
    "df_teste = df_chem.loc[i_teste]\n",
    "\n",
    "print(df_treino)\n",
    "print()\n",
    "print(df_teste)"
   ]
  },
  {
   "cell_type": "code",
   "execution_count": 12,
   "id": "6be0e1cd-f4da-4c8a-b93d-186ab91b82fc",
   "metadata": {},
   "outputs": [],
   "source": [
    "# Modelo preditivo\n",
    "# Definições de atributos e targets\n",
    "nome = 'df_chem'\n",
    "atributos = [\"Specific Gravity\", \"Mohs Hardness\", 'Molar Mass', 'Molar Volume', 'Calculated Density']\n",
    "target = [\"Refractive Index\"]\n",
    "\n",
    "X_treino = df_treino.reindex(atributos, axis=1).values\n",
    "y_treino = df_treino.reindex(target, axis=1).values\n",
    "X_teste = df_teste.reindex(atributos, axis=1).values\n",
    "y_teste = df_teste.reindex(target, axis=1).values"
   ]
  },
  {
   "cell_type": "markdown",
   "id": "18bddf43-bab4-4718-bd4d-f17fadba944e",
   "metadata": {},
   "source": [
    "### K-NN"
   ]
  },
  {
   "cell_type": "code",
   "execution_count": 13,
   "id": "a80f25f1-6fbd-4326-9eb5-8b1bca4202a9",
   "metadata": {
    "tags": []
   },
   "outputs": [
    {
     "name": "stdout",
     "output_type": "stream",
     "text": [
      "[[1.8666]\n",
      " [1.5868]\n",
      " [1.5968]\n",
      " [1.8562]\n",
      " [1.7724]\n",
      " [1.574 ]\n",
      " [1.6042]\n",
      " [1.6064]\n",
      " [1.8562]\n",
      " [1.7314]\n",
      " [1.554 ]\n",
      " [1.9476]\n",
      " [1.6026]\n",
      " [1.643 ]\n",
      " [1.7646]\n",
      " [1.792 ]\n",
      " [1.6702]\n",
      " [1.4204]\n",
      " [1.6222]\n",
      " [1.6072]\n",
      " [1.813 ]\n",
      " [1.7136]\n",
      " [1.807 ]\n",
      " [1.6184]\n",
      " [1.589 ]\n",
      " [1.8672]\n",
      " [1.8448]\n",
      " [1.5962]\n",
      " [1.6896]\n",
      " [1.6272]\n",
      " [1.9178]\n",
      " [1.5988]\n",
      " [1.6378]\n",
      " [1.771 ]\n",
      " [1.6404]\n",
      " [1.8344]\n",
      " [1.5968]\n",
      " [1.6272]\n",
      " [1.4204]\n",
      " [1.759 ]\n",
      " [1.6938]\n",
      " [1.5968]\n",
      " [1.6378]\n",
      " [1.753 ]\n",
      " [1.721 ]\n",
      " [1.9646]\n",
      " [1.6222]\n",
      " [1.709 ]\n",
      " [1.6196]\n",
      " [1.8744]\n",
      " [1.893 ]\n",
      " [1.595 ]\n",
      " [1.7308]\n",
      " [1.6036]\n",
      " [1.6368]\n",
      " [1.7366]\n",
      " [1.6572]\n",
      " [1.7726]\n",
      " [1.7952]\n",
      " [1.609 ]\n",
      " [1.5944]\n",
      " [1.7394]\n",
      " [1.6784]\n",
      " [1.5968]\n",
      " [1.6306]\n",
      " [1.7524]\n",
      " [1.7736]\n",
      " [1.596 ]\n",
      " [1.7232]\n",
      " [1.776 ]\n",
      " [1.7136]\n",
      " [1.6152]\n",
      " [1.6248]\n",
      " [1.617 ]\n",
      " [1.6288]\n",
      " [1.6024]\n",
      " [1.6528]\n",
      " [1.6378]\n",
      " [1.6842]\n",
      " [1.6688]\n",
      " [1.6484]\n",
      " [1.7598]\n",
      " [1.549 ]\n",
      " [1.6404]\n",
      " [1.8698]\n",
      " [1.768 ]\n",
      " [1.789 ]\n",
      " [1.74  ]\n",
      " [1.6916]\n",
      " [1.7388]\n",
      " [1.7642]\n",
      " [1.8498]\n",
      " [1.723 ]\n",
      " [1.617 ]\n",
      " [1.5636]\n",
      " [1.7108]\n",
      " [1.8994]\n",
      " [1.7454]\n",
      " [1.6354]\n",
      " [1.8324]\n",
      " [1.7664]\n",
      " [1.6516]\n",
      " [1.7716]\n",
      " [1.7496]\n",
      " [1.6796]\n",
      " [1.609 ]\n",
      " [1.7082]\n",
      " [1.5164]\n",
      " [1.8974]\n",
      " [1.7042]\n",
      " [1.8344]\n",
      " [1.6512]\n",
      " [1.6514]\n",
      " [1.6642]\n",
      " [1.5538]\n",
      " [1.5618]\n",
      " [1.6226]\n",
      " [1.617 ]\n",
      " [1.748 ]\n",
      " [1.6978]\n",
      " [1.5688]\n",
      " [1.781 ]\n",
      " [1.6274]\n",
      " [1.6252]\n",
      " [1.6346]\n",
      " [2.2222]\n",
      " [1.6618]\n",
      " [1.6272]\n",
      " [1.6196]\n",
      " [1.7578]\n",
      " [1.656 ]\n",
      " [1.7398]\n",
      " [1.6074]\n",
      " [1.7642]\n",
      " [1.7452]\n",
      " [1.8422]\n",
      " [1.65  ]\n",
      " [1.695 ]\n",
      " [1.5866]\n",
      " [1.6898]\n",
      " [1.711 ]\n",
      " [1.6002]\n",
      " [1.8304]\n",
      " [1.6784]\n",
      " [1.8328]\n",
      " [1.6502]\n",
      " [1.602 ]]\n"
     ]
    }
   ],
   "source": [
    "from sklearn.neighbors import KNeighborsRegressor\n",
    "\n",
    "# criação do modelo K-NN\n",
    "modelo_knn = KNeighborsRegressor()\n",
    "\n",
    "# treinamento do modelo\n",
    "modelo_knn.fit(X_treino, y_treino)\n",
    "\n",
    "# realiza uma previsão usando o modelo treinado\n",
    "previsao = modelo_knn.predict(X_teste)\n",
    "print(previsao)"
   ]
  },
  {
   "cell_type": "code",
   "execution_count": 14,
   "id": "36f902b6-f8b3-474e-8969-1bb82f258b60",
   "metadata": {},
   "outputs": [
    {
     "name": "stdout",
     "output_type": "stream",
     "text": [
      "O RMSE do modelo k-NN foi um Indice Refrativo de 0.25713131085188395.\n"
     ]
    }
   ],
   "source": [
    "y_verdadeiro = y_teste\n",
    "y_previsao = modelo_knn.predict(X_teste)\n",
    "\n",
    "RMSE = mean_squared_error(y_verdadeiro, y_previsao, squared=False)\n",
    "\n",
    "print(f\"O RMSE do modelo k-NN foi um Indice Refrativo de {RMSE}.\")"
   ]
  },
  {
   "cell_type": "markdown",
   "id": "91d67476-6546-4a74-a4ba-0dee94c32b6b",
   "metadata": {},
   "source": [
    "### Árvore de Decisões"
   ]
  },
  {
   "cell_type": "code",
   "execution_count": 15,
   "id": "580a5c6c-f192-480e-81e3-1a1b37a34a96",
   "metadata": {},
   "outputs": [],
   "source": [
    "from sklearn.tree import DecisionTreeRegressor\n",
    "\n",
    "# cria o modelo\n",
    "modelo_dt = DecisionTreeRegressor(random_state=1024)\n",
    "\n",
    "# treina o modelo\n",
    "modelo_dt.fit(X_treino, y_treino)\n",
    "\n",
    "# realiza uma previsão usando o modelo treinado\n",
    "previsao = modelo_dt.predict(X_teste)\n",
    "#print(previsao)"
   ]
  },
  {
   "cell_type": "code",
   "execution_count": 16,
   "id": "31d03dcd-a2a5-4c79-87e8-d375035ca8ec",
   "metadata": {},
   "outputs": [
    {
     "name": "stdout",
     "output_type": "stream",
     "text": [
      "O RMSE do modelo árvore de decisão foi de 0.25762351901761693.\n"
     ]
    }
   ],
   "source": [
    "from sklearn.metrics import mean_squared_error\n",
    "\n",
    "y_verdadeiro = y_teste\n",
    "y_previsao = modelo_dt.predict(X_teste)\n",
    "\n",
    "RMSE = mean_squared_error(y_verdadeiro, y_previsao, squared=False)\n",
    "\n",
    "print(f\"O RMSE do modelo árvore de decisão foi de {RMSE}.\")"
   ]
  },
  {
   "cell_type": "markdown",
   "id": "54bda4b9-a119-46d9-938d-961a0e4b2f73",
   "metadata": {},
   "source": [
    "### Random Forest"
   ]
  },
  {
   "cell_type": "code",
   "execution_count": 17,
   "id": "92a3f61d-7ad0-402f-9395-dd9b305d7f42",
   "metadata": {
    "tags": []
   },
   "outputs": [
    {
     "name": "stdout",
     "output_type": "stream",
     "text": [
      "(441, 1) (147, 1)\n",
      "(441,) (147,)\n",
      "\n",
      "[1.71462 1.5677  1.63808 1.59898 1.5532  1.69809 1.6582  1.69229 1.70891\n",
      " 1.66317 1.50641 1.7545  1.62664 2.0001  1.53531 1.74324 1.77298 1.42581\n",
      " 1.61285 1.52606 1.62843 2.09241 1.63166 1.63625 1.55433 2.14116 1.84656\n",
      " 1.5969  1.72575 1.76197 1.6316  1.63442 1.75772 1.64072 1.58994 1.53642\n",
      " 1.56924 1.71102 2.40109 1.69281 1.9513  1.69493 1.57237 1.64316 1.75887\n",
      " 1.63692 1.64068 1.54083 1.67168 2.10355 1.5684  1.63454 2.09757 1.53205\n",
      " 1.63949 1.62289 1.70955 1.54317 1.72294 1.46641 1.53247 1.72221 1.66515\n",
      " 1.67223 1.53466 1.7105  2.18203 1.4954  1.77879 1.67679 1.70481 1.74677\n",
      " 2.12201 1.61541 1.88213 1.50512 1.6259  1.5051  1.63998 1.55489 1.70768\n",
      " 1.92539 1.79923 1.70376 2.0278  1.71737 2.16094 1.69216 1.56685 1.52425\n",
      " 1.49403 1.57961 1.67683 1.63089 2.28097 1.60658 1.5566  1.69387 1.69675\n",
      " 2.79491 1.53922 1.69973 1.69923 1.83632 1.55604 1.55831 1.53225 1.47652\n",
      " 1.58315 1.56188 1.52015 1.58985 1.71298 1.77794 1.79485 1.62914 1.6324\n",
      " 1.53511 1.68809 1.8148  1.65522 1.6755  1.63337 1.53298 1.69404 2.39147\n",
      " 1.54972 1.67971 1.66509 1.7924  1.61987 1.51124 1.53123 1.72406 1.68557\n",
      " 1.8119  1.64942 1.63353 1.72906 1.54274 1.62059 1.61856 2.21119 1.62031\n",
      " 1.79015 1.55483 1.67861]\n"
     ]
    }
   ],
   "source": [
    "#Treinamento do modelo\n",
    "from sklearn.ensemble import RandomForestRegressor\n",
    "\n",
    "# alterando o formato do target\n",
    "print(y_treino.shape, y_teste.shape)\n",
    "y_treino = y_treino.ravel()\n",
    "y_teste = y_teste.ravel()\n",
    "print(y_treino.shape, y_teste.shape)\n",
    "\n",
    "# cria o modelo\n",
    "modelo_rf = RandomForestRegressor(random_state=1024)\n",
    "\n",
    "# treina o modelo\n",
    "modelo_rf.fit(X_treino, y_treino)\n",
    "\n",
    "# realiza uma previsão usando o modelo treinado\n",
    "previsao = modelo_rf.predict(X_teste)\n",
    "print()\n",
    "print(previsao)"
   ]
  },
  {
   "cell_type": "code",
   "execution_count": 18,
   "id": "a48936d4-b91e-4d23-99ae-5dc557f8e442",
   "metadata": {},
   "outputs": [
    {
     "name": "stdout",
     "output_type": "stream",
     "text": [
      "O RMSE do modelo de floresta aleatória foi de 0.22686987805503722\n"
     ]
    }
   ],
   "source": [
    "#Performance do modelo de floresta aleatória\n",
    "from sklearn.metrics import mean_squared_error\n",
    "\n",
    "y_verdadeiro = y_teste\n",
    "y_previsao = modelo_rf.predict(X_teste)\n",
    "\n",
    "RMSE = mean_squared_error(y_verdadeiro, y_previsao, squared=False)\n",
    "\n",
    "print(f\"O RMSE do modelo de floresta aleatória foi de {RMSE}\")"
   ]
  },
  {
   "cell_type": "markdown",
   "id": "5bdd8984-e3b9-416f-839e-f5ad8feed2ea",
   "metadata": {},
   "source": [
    "### Regressão Linear"
   ]
  },
  {
   "cell_type": "code",
   "execution_count": 19,
   "id": "dbb875f1-54f9-4121-86b4-ec693384bd9a",
   "metadata": {},
   "outputs": [],
   "source": [
    "# Modelo linear para compararmos com nossa Baseline\n",
    "\n",
    "linear = LinearRegression() # Criação do Modelo Linear\n",
    "\n",
    "linear.fit(X_treino, y_treino) # Treinamento do Modelo Linear\n",
    "\n",
    "previsao_linear = linear.predict(X_teste) # Previsão do modelo linear a partir do treino\n",
    "\n",
    "#print(previsao_linear)"
   ]
  },
  {
   "cell_type": "code",
   "execution_count": 20,
   "id": "43bb4f9e-c5c0-4e11-905d-99e1e6c730d2",
   "metadata": {},
   "outputs": [
    {
     "name": "stdout",
     "output_type": "stream",
     "text": [
      "A RMSE do modelo linear foi uma Indice Refrativo de 0.2354673749765964\n"
     ]
    }
   ],
   "source": [
    "# Comparação se foi melhor ou não\n",
    "\n",
    "y_verdadeiro = y_teste\n",
    "y_previsao = linear.predict(X_teste)\n",
    "\n",
    "RMSE = mean_squared_error(y_verdadeiro, y_previsao, squared=False)\n",
    "print(f'A RMSE do modelo linear foi uma Indice Refrativo de {RMSE}')"
   ]
  },
  {
   "cell_type": "markdown",
   "id": "9c6e8039-aa31-47e0-a641-caa74742bb9e",
   "metadata": {},
   "source": [
    "Desse modo, pode-se concluir que o melhor modelo possível para a previsão do Índice Refrativo é a Baseline, uma vez que comparado a todos os outros modelos apresenta o menor RMSE. Isso pode indicar que há um problema com o modelo, uma vez que \"baseline\" não é um modelo particularmente sofisticado."
   ]
  },
  {
   "cell_type": "code",
   "execution_count": null,
   "id": "880878d1-bcf9-4cb5-a6ea-cd925a59d844",
   "metadata": {},
   "outputs": [],
   "source": []
  }
 ],
 "metadata": {
  "kernelspec": {
   "display_name": "ilumpy",
   "language": "python",
   "name": "ilumpy"
  },
  "language_info": {
   "codemirror_mode": {
    "name": "ipython",
    "version": 3
   },
   "file_extension": ".py",
   "mimetype": "text/x-python",
   "name": "python",
   "nbconvert_exporter": "python",
   "pygments_lexer": "ipython3",
   "version": "3.9.7"
  }
 },
 "nbformat": 4,
 "nbformat_minor": 5
}
