{
 "cells": [
  {
   "cell_type": "markdown",
   "metadata": {},
   "source": [
    "Classificação\n",
    "=================\n",
    "\n"
   ]
  },
  {
   "cell_type": "markdown",
   "metadata": {},
   "source": [
    "## Classificação supervisionada via aprendizado de máquina\n",
    "\n"
   ]
  },
  {
   "cell_type": "markdown",
   "metadata": {},
   "source": [
    "Até agora vocês aplicaram modelos de regressão supervisionados. Ou seja, vocês forneceram um banco de dados e escolheram uma variável alvo, com o modelo de regressão vocês puderam obter valores próximos, ou nem tanto, dos valores alvo.\n",
    "\n",
    "Agora, vocês irão aprender outro uso do aprendizado de máquina, a classificação. Com ela, podemos separar os dados em diferentes grupos ou entidades, então treinar nosso modelo para classificar nossos objetos, que já terão suas classes definidas préviamente. Isso é equivalente a regressão que já tina seus valores definidos, porém agora o que está definido são as classes.\n",
    "\n",
    "A classificação pode ser entendida de maneira simples com seu uso para imagens. Na imagem abaixo temos imagens de gatos e cachorros, um bom algoritmo de classificação poderá identificar corretamente quais imagens são de gatos e quais são de cachorros. Num algoritmo supervisionado, são fornecidas varias imagens já com a espécie do animal definida, assim, se o número de imagens for suficiente, o algoritmo será bem treinado.\n",
    "\n",
    "<img src=\"https://blogs.sas.com/content/subconsciousmusings/files/2017/09/cat-dog-1024x521.png\" alt=\"Imagem de gatos e cachorros\" style=\"width: 500px;\"/>\n",
    "Fonte: https://blogs.sas.com/content/subconsciousmusings/2017/09/25/machine-learning-concepts-styles-machine-learning/\n",
    "\n",
    "Note que, o algoritmo estará muito bem treinado para os dados fornecidos, porém, se você fornecer a imagem de um golfinho, ele a identificará como gato ou cachorro, porque o conhecimento do modelo é apenas este. Assim como, se você treinar um modelo para reconhecer números, ao fornecer uma letra ou qualquer outra imagem, ele atribuirá um número para ela. Portanto, cuidado ao extrapolar seus modelos, tenham em mente o domínio de dados para o qual o modelo foi treinado.\n",
    "\n",
    "Neste Notebook iremos aplicar os modelos de classificação baseados em $k$-NN, arvores de decisão e florestas aleatórias, ou seja, os mesmos modelos que vocês já utilizaram para regressão. Como de costume, recomendamos o vídeo do [StatQuest](https://www.youtube.com/watch?v=_L39rN6gz7Y) para aprender um pouco mais sobre o assunto. A fundamentação teórica dos métodos é a mesma, porém agora não iremos prever valores numéricos mas sim grupos ou classes."
   ]
  },
  {
   "cell_type": "markdown",
   "metadata": {},
   "source": [
    "## Qual será nosso alvo?\n",
    "\n",
    "Nos últimos Notebooks utilizamos o dataset de preços de diamantes do Seaborn, portanto vamos continuar utilizando ele. No entanto, nosso alvo sempre foi o preço dos diamentes, que é um valor numérico. Agora queremos classificar em grupos, portanto o preço numérico não é útil para isso...\n",
    "No entanto, podemos utilizar um truque para utilizar a classificação. Vamos agrupar os preços dos diamantes em:\n",
    "\n",
    "- Muito caro\n",
    "- Caro\n",
    "- Médio\n",
    "- Barato\n",
    "- Muito barato\n",
    "\n",
    "Para escolhermos as faixas de valores é importante analisar a distribuição de preços:\n",
    "Vamos carregar os dados:"
   ]
  },
  {
   "cell_type": "code",
   "execution_count": 3,
   "metadata": {},
   "outputs": [
    {
     "data": {
      "text/plain": [
       "array([[<AxesSubplot:title={'center':'price'}>]], dtype=object)"
      ]
     },
     "execution_count": 3,
     "metadata": {},
     "output_type": "execute_result"
    },
    {
     "data": {
      "image/png": "[encoded data removed]",
      "text/plain": [
       "<Figure size 432x288 with 1 Axes>"
      ]
     },
     "metadata": {
      "needs_background": "light"
     },
     "output_type": "display_data"
    }
   ],
   "source": [
    "import seaborn as sns\n",
    "import pandas as pd\n",
    "\n",
    "DATASET_NAME = \"diamonds\"\n",
    "df = sns.load_dataset(DATASET_NAME)\n",
    "TARGET = [\"price\"]\n",
    "df[TARGET].hist(bins=5)\n"
   ]
  },
  {
   "cell_type": "markdown",
   "metadata": {},
   "source": [
    "Podemos notar que dividir nossos preços em cinco faixas de valores igual não é uma boa estratégia, porque?\n",
    "Porque temos muito mais diamantes muito baratos do que os caros e muito caros. Isso levará a uma performance ruim do modelo para classificar os muito caros.\n",
    "Vamos observar um histograma com uma melhor resolução:"
   ]
  },
  {
   "cell_type": "code",
   "execution_count": 4,
   "metadata": {},
   "outputs": [
    {
     "data": {
      "text/plain": [
       "array([[<AxesSubplot:title={'center':'price'}>]], dtype=object)"
      ]
     },
     "execution_count": 4,
     "metadata": {},
     "output_type": "execute_result"
    },
    {
     "data": {
      "image/png": "[encoded data removed]",
      "text/plain": [
       "<Figure size 432x288 with 1 Axes>"
      ]
     },
     "metadata": {
      "needs_background": "light"
     },
     "output_type": "display_data"
    }
   ],
   "source": [
    "df[TARGET].hist(bins=150)\n"
   ]
  },
  {
   "cell_type": "markdown",
   "metadata": {},
   "source": [
    "Nossos dados estão concentrados no diamantes mais baratos. Tudo bem, vamos tentar distribuir nossos grupos de preço de uma maneira que divida razoávelmente nossos preços:"
   ]
  },
  {
   "cell_type": "code",
   "execution_count": 5,
   "metadata": {},
   "outputs": [
    {
     "name": "stdout",
     "output_type": "stream",
     "text": [
      "14524 Diamantes muito baratos\n",
      "13018 Diamantes baratos\n",
      "11684 Diamantes de preço médio\n",
      "7109 Diamantes caros\n",
      "7605 Diamantes muito caros\n"
     ]
    }
   ],
   "source": [
    "logic = df[\"price\"] <= 1000\n",
    "print(len(df.loc[logic]),'Diamantes muito baratos')\n",
    "logic = (df[\"price\"] > 1000) & (df[\"price\"] <= 2500)\n",
    "print(len(df.loc[logic]),'Diamantes baratos')\n",
    "logic = (df[\"price\"] > 2500) & (df[\"price\"] <= 5000)\n",
    "print(len(df.loc[logic]),'Diamantes de preço médio')\n",
    "logic = (df[\"price\"] > 5000) & (df[\"price\"] <= 8000)\n",
    "print(len(df.loc[logic]),'Diamantes caros')\n",
    "logic = (df[\"price\"] > 8000)\n",
    "print(len(df.loc[logic]),'Diamantes muito caros')"
   ]
  },
  {
   "cell_type": "markdown",
   "metadata": {},
   "source": [
    "Agora temos algo razoável do ponto de vista de dados. Porém, quem entende de diamantes pode argumentar que essas faixas de valores não são as melhores, que o muito caros teriam que ser acima de 15000 mil dólares ou algo do tipo. No entando, aqui estamos pensando do ponto de vista de divisão dos dados apenas.\n",
    "\n",
    "Fique a vontade para mudar as faixas de valores como preferir.\n",
    "\n",
    "Vamos criar uma nova coluna com as categorias de preços então:"
   ]
  },
  {
   "cell_type": "code",
   "execution_count": 6,
   "metadata": {},
   "outputs": [
    {
     "name": "stdout",
     "output_type": "stream",
     "text": [
      "       carat        cut color clarity  depth  table  price     x     y     z  \\\n",
      "0       0.23      Ideal     E     SI2   61.5   55.0    326  3.95  3.98  2.43   \n",
      "1       0.21    Premium     E     SI1   59.8   61.0    326  3.89  3.84  2.31   \n",
      "2       0.23       Good     E     VS1   56.9   65.0    327  4.05  4.07  2.31   \n",
      "3       0.29    Premium     I     VS2   62.4   58.0    334  4.20  4.23  2.63   \n",
      "4       0.31       Good     J     SI2   63.3   58.0    335  4.34  4.35  2.75   \n",
      "...      ...        ...   ...     ...    ...    ...    ...   ...   ...   ...   \n",
      "53935   0.72      Ideal     D     SI1   60.8   57.0   2757  5.75  5.76  3.50   \n",
      "53936   0.72       Good     D     SI1   63.1   55.0   2757  5.69  5.75  3.61   \n",
      "53937   0.70  Very Good     D     SI1   62.8   60.0   2757  5.66  5.68  3.56   \n",
      "53938   0.86    Premium     H     SI2   61.0   58.0   2757  6.15  6.12  3.74   \n",
      "53939   0.75      Ideal     D     SI2   62.2   55.0   2757  5.83  5.87  3.64   \n",
      "\n",
      "      Preço Categórico  \n",
      "0         Muito Barato  \n",
      "1         Muito Barato  \n",
      "2         Muito Barato  \n",
      "3         Muito Barato  \n",
      "4         Muito Barato  \n",
      "...                ...  \n",
      "53935            Médio  \n",
      "53936            Médio  \n",
      "53937            Médio  \n",
      "53938            Médio  \n",
      "53939            Médio  \n",
      "\n",
      "[53940 rows x 11 columns]\n"
     ]
    }
   ],
   "source": [
    "df['Preço Categórico'] = None\n",
    "\n",
    "logic = df[\"price\"] <= 1000\n",
    "df.loc[logic, 'Preço Categórico'] = 'Muito Barato'\n",
    "logic = (df[\"price\"] > 1000) & (df[\"price\"] <= 2500)\n",
    "df.loc[logic, 'Preço Categórico'] = 'Barato'\n",
    "logic = (df[\"price\"] > 2500) & (df[\"price\"] <= 5000)\n",
    "df.loc[logic, 'Preço Categórico'] = 'Médio'\n",
    "logic = (df[\"price\"] > 5000) & (df[\"price\"] <= 8000)\n",
    "df.loc[logic, 'Preço Categórico'] = 'Caro'\n",
    "logic = (df[\"price\"] > 8000)\n",
    "df.loc[logic, 'Preço Categórico'] = 'Muito Caro'\n",
    "print(df)\n"
   ]
  },
  {
   "cell_type": "markdown",
   "metadata": {},
   "source": [
    "Ótimo! Agora criamos nossa nova coluna com preços categóricos, estamos prontos para realizar nosso aprendizado de máquina de classificação."
   ]
  },
  {
   "cell_type": "markdown",
   "metadata": {},
   "source": [
    "## Classificação com $k$-NN\n"
   ]
  },
  {
   "cell_type": "markdown",
   "metadata": {},
   "source": [
    "A maneira de criar um $k$-NN classificador é muito semelhante ao que vimos para um $k$-NN regressor.\n",
    "Já temos nosso dataset no DataFrame df, então vamos apenas definir o necessário para o classificador:"
   ]
  },
  {
   "cell_type": "code",
   "execution_count": 7,
   "metadata": {},
   "outputs": [],
   "source": [
    "import seaborn as sns\n",
    "from sklearn.model_selection import train_test_split\n",
    "\n",
    "TAMANHO_TESTE = 0.1\n",
    "SEMENTE_ALEATORIA = 61455\n",
    "FEATURES = [\"carat\", \"depth\", \"table\", \"x\", \"y\", \"z\"]\n",
    "TARGET = [\"Preço Categórico\"]\n",
    "\n",
    "indices = df.index\n",
    "indices_treino, indices_teste = train_test_split(\n",
    "    indices, test_size=TAMANHO_TESTE, random_state=SEMENTE_ALEATORIA\n",
    ")\n",
    "\n",
    "df_treino = df.loc[indices_treino]\n",
    "df_teste = df.loc[indices_teste]\n",
    "\n",
    "# observe que usamos o .values aqui pois queremos apenas os valores\n",
    "X_treino = df_treino.reindex(FEATURES, axis=1).values\n",
    "y_treino = df_treino.reindex(TARGET, axis=1).values.ravel()\n",
    "X_teste = df_teste.reindex(FEATURES, axis=1).values\n",
    "y_teste = df_teste.reindex(TARGET, axis=1).values.ravel()"
   ]
  },
  {
   "cell_type": "markdown",
   "metadata": {},
   "source": [
    "Agora vamos treinar nosso modelo classificador:"
   ]
  },
  {
   "cell_type": "code",
   "execution_count": 8,
   "metadata": {},
   "outputs": [
    {
     "name": "stdout",
     "output_type": "stream",
     "text": [
      "['Barato' 'Muito Barato' 'Muito Barato' ... 'Muito Barato' 'Muito Barato'\n",
      " 'Barato']\n"
     ]
    }
   ],
   "source": [
    "from sklearn.neighbors import KNeighborsClassifier\n",
    "\n",
    "# cria o modelo\n",
    "modelo_knn = KNeighborsClassifier()\n",
    "\n",
    "# treina o modelo\n",
    "modelo_knn.fit(X_treino, y_treino)\n",
    "\n",
    "# realiza uma previsão usando o modelo treinado\n",
    "previsao = modelo_knn.predict(X_teste)\n",
    "print(previsao)"
   ]
  },
  {
   "cell_type": "markdown",
   "metadata": {},
   "source": [
    "Perfeito, modelo treinado!\n",
    "Agora vamos testar sua performance, mas, como vou calcular o RMSE para dados categóricos? A resposta direta é não é possível, a não ser que você atribua valores a cada categoria... Mas há outras maneiras de avaliarmos o modelo, o próprio ScikitLearn tem uma classe chamada metrics, para avaliarmos modelos. \n",
    "Vamos utilizar a função accuracy_score, que avalia quantas vezes o modelo acertou a categoria de preço. Consulte a documentação dessa função aqui: [Read The Docs](https://scikit-learn.org/stable/modules/generated/sklearn.metrics.accuracy_score.html)\n"
   ]
  },
  {
   "cell_type": "code",
   "execution_count": 9,
   "metadata": {},
   "outputs": [
    {
     "name": "stdout",
     "output_type": "stream",
     "text": [
      "Accuracy: 0.7554690396737115\n"
     ]
    }
   ],
   "source": [
    "from sklearn import metrics\n",
    "\n",
    "print(\"Accuracy:\",metrics.accuracy_score(y_teste, previsao))"
   ]
  },
  {
   "cell_type": "markdown",
   "metadata": {},
   "source": [
    "Temos uma acurácia de 75.5%, algo razoável, consideravelmente melhor que jogar um dado de cinco lados para determinar a categoria de preço. Lembre que não mudamos nada nos hiperparâmetros do modelo, fica como dica para vocês explorarem."
   ]
  },
  {
   "cell_type": "markdown",
   "metadata": {},
   "source": [
    "## Classificação com Árvore de Decisão"
   ]
  },
  {
   "cell_type": "markdown",
   "metadata": {},
   "source": [
    "Novamente, a maneira de fazermos a classificação é muito semelhante a regressão. Façamos isso então:"
   ]
  },
  {
   "cell_type": "code",
   "execution_count": 10,
   "metadata": {},
   "outputs": [
    {
     "name": "stdout",
     "output_type": "stream",
     "text": [
      "['Barato' 'Muito Barato' 'Barato' ... 'Muito Barato' 'Muito Barato'\n",
      " 'Muito Barato']\n"
     ]
    }
   ],
   "source": [
    "from sklearn.tree import DecisionTreeClassifier\n",
    "\n",
    "# cria o modelo\n",
    "modelo_dt = DecisionTreeClassifier(random_state=SEMENTE_ALEATORIA)\n",
    "\n",
    "# treina o modelo\n",
    "modelo_dt.fit(X_treino, y_treino)\n",
    "\n",
    "# realiza uma previsão usando o modelo treinado\n",
    "previsao = modelo_dt.predict(X_teste)\n",
    "print(previsao)"
   ]
  },
  {
   "cell_type": "markdown",
   "metadata": {},
   "source": [
    "Vamos checar a performance do nosso modelo de árvore de decisão.\n",
    "\n"
   ]
  },
  {
   "cell_type": "code",
   "execution_count": 11,
   "metadata": {},
   "outputs": [
    {
     "name": "stdout",
     "output_type": "stream",
     "text": [
      "Accuracy: 0.7046718576195773\n"
     ]
    }
   ],
   "source": [
    "print(\"Accuracy:\",metrics.accuracy_score(y_teste, previsao))\n"
   ]
  },
  {
   "cell_type": "markdown",
   "metadata": {},
   "source": [
    "Tivemos uma acurácia inferior ao modelo $k$-NN. Porém, novamente não modificamos nenhum hiperparâmetro, e já sabemos o quão importante eles são para árvores de decisão.\n",
    "Lembrem que vocês também podem converter dados ordinais em dados númericos, como descrito na última aula. Assim vocês poderão utilizar as features 'cut' e 'clarity', ou com um *one-hot encoder*, utilizar a cor do diamente."
   ]
  },
  {
   "cell_type": "markdown",
   "metadata": {},
   "source": [
    "## Classificação com Florestas Aleatórias"
   ]
  },
  {
   "cell_type": "markdown",
   "metadata": {},
   "source": [
    "Agora vamos ao modelo de florestas aleatórias, que para a regressão já se mostrou um modelo muito bom.\n",
    "Novamente o processo é muito semelhante ao regressor, então vamos lá:\n"
   ]
  },
  {
   "cell_type": "code",
   "execution_count": 12,
   "metadata": {},
   "outputs": [
    {
     "name": "stdout",
     "output_type": "stream",
     "text": [
      "['Barato' 'Muito Barato' 'Muito Barato' ... 'Muito Barato' 'Muito Barato'\n",
      " 'Muito Barato']\n"
     ]
    }
   ],
   "source": [
    "from sklearn.ensemble import RandomForestClassifier\n",
    "\n",
    "# cria o modelo\n",
    "modelo_rf = RandomForestClassifier(random_state=SEMENTE_ALEATORIA)\n",
    "\n",
    "# treina o modelo\n",
    "modelo_rf.fit(X_treino, y_treino)\n",
    "\n",
    "# realiza uma previsão usando o modelo treinado\n",
    "previsao = modelo_rf.predict(X_teste)\n",
    "print(previsao)"
   ]
  },
  {
   "cell_type": "markdown",
   "metadata": {},
   "source": [
    "Vamos testar a acurácia do modelo de floresta aleatória:"
   ]
  },
  {
   "cell_type": "code",
   "execution_count": 13,
   "metadata": {},
   "outputs": [
    {
     "name": "stdout",
     "output_type": "stream",
     "text": [
      "Accuracy: 0.7615869484612533\n"
     ]
    }
   ],
   "source": [
    "print(\"Accuracy:\",metrics.accuracy_score(y_teste, previsao))\n"
   ]
  },
  {
   "cell_type": "markdown",
   "metadata": {},
   "source": [
    "Tivemos uma acurácia superior ao modelo $k$-NN, sendo a melhor dos três modelos. Novamente não modificamos nenhum hiperparâmetro, sabendo que eles são bastante importes para florestas aleatórias. Portanto, tente melhorar este modelo modificando seus hiperparâmetros."
   ]
  },
  {
   "cell_type": "markdown",
   "metadata": {},
   "source": [
    "## Extra, avaliando hiperparâmetros automaticamente:"
   ]
  },
  {
   "cell_type": "markdown",
   "metadata": {},
   "source": [
    "Uma função bastante útil do ScikitLearn é a GridSearchCV, que a busca por hiperparâmetros de maneira automática, basta passar para ele quais parâmetros você deseja avaliar que ele combina todos! Notem que o número de combinações pode ser grande, então isso pode levar bastante tempo para ser executado.\n",
    "\n",
    "Consulte a [documentação do GridSearchCV](https://scikit-learn.org/stable/modules/generated/sklearn.model_selection.GridSearchCV.html) para mais informações. Notem que ele usa validação cruzada, um conceito ainda não apresentado para vocês. Para aprender mais sobre validação cruzada, vale assistir o vídeo do [StatQuest](https://www.youtube.com/watch?v=fSytzGwwBVw) sobre o assunto."
   ]
  },
  {
   "cell_type": "code",
   "execution_count": 15,
   "metadata": {},
   "outputs": [
    {
     "name": "stderr",
     "output_type": "stream",
     "text": [
      "/home/ABTLUS/james.almeida/anaconda3/lib/python3.9/site-packages/joblib/externals/loky/process_executor.py:702: UserWarning: A worker stopped while some jobs were given to the executor. This can be caused by a too short worker timeout or by a memory leak.\n",
      "  warnings.warn(\n"
     ]
    },
    {
     "data": {
      "text/plain": [
       "GridSearchCV(cv=5, estimator=RandomForestClassifier(random_state=61455),\n",
       "             n_jobs=8,\n",
       "             param_grid={'criterion': ['gini', 'entropy'],\n",
       "                         'max_depth': [4, 6, 8, 10, 12, 14, 16],\n",
       "                         'max_features': ['auto', 'sqrt', 'log2'],\n",
       "                         'n_estimators': [200, 300, 400, 500, 600]})"
      ]
     },
     "execution_count": 15,
     "metadata": {},
     "output_type": "execute_result"
    }
   ],
   "source": [
    "from sklearn.model_selection import GridSearchCV\n",
    "\n",
    "param_grid = { \n",
    "    'n_estimators': [200, 300, 400, 500, 600],\n",
    "    'max_features': ['auto', 'sqrt', 'log2'],\n",
    "    'max_depth' : [4,6,8,10,12,14,16],\n",
    "    'criterion' :['gini', 'entropy']\n",
    "}\n",
    "CV_rfc = GridSearchCV(estimator=modelo_rf, param_grid=param_grid, cv= 5, n_jobs=8)\n",
    "CV_rfc.fit(X_treino, y_treino)"
   ]
  },
  {
   "cell_type": "markdown",
   "metadata": {},
   "source": [
    "Otimização feita, vamos extrair quais foram os melhores hiperparâmetros:"
   ]
  },
  {
   "cell_type": "code",
   "execution_count": 16,
   "metadata": {},
   "outputs": [
    {
     "name": "stdout",
     "output_type": "stream",
     "text": [
      "{'criterion': 'entropy', 'max_depth': 14, 'max_features': 'auto', 'n_estimators': 600}\n"
     ]
    }
   ],
   "source": [
    "print(CV_rfc.best_params_)\n",
    "best_params = CV_rfc.best_params_"
   ]
  },
  {
   "cell_type": "markdown",
   "metadata": {},
   "source": [
    "Os melhores parâmetros foram mostrados acima. Notamos que o *n_estimators* ficou no valor máximo que escolhemos, talvez algum valor maior seja melhor.\n",
    "\n",
    "Outra observação é que nas versões mais novas do ScikitLearn, o hiperparâmetro *'max_features' = 'auto'* está depreciado, na verdade ele aponta para o *'sqrt'*. Portanto, vamos renomeá-lo para *'max_features' = 'sqrt'*.\n",
    "\n",
    "Vamos treinar nosso modelo com os melhores parâmetros obtidos então:"
   ]
  },
  {
   "cell_type": "code",
   "execution_count": 17,
   "metadata": {},
   "outputs": [],
   "source": [
    "best_params = {'criterion': 'entropy', 'max_depth': 14, 'max_features': 'sqrt', 'n_estimators': 600}"
   ]
  },
  {
   "cell_type": "code",
   "execution_count": 18,
   "metadata": {},
   "outputs": [
    {
     "data": {
      "text/plain": [
       "RandomForestClassifier(criterion='entropy', max_depth=14, max_features='sqrt',\n",
       "                       n_estimators=600, random_state=61455)"
      ]
     },
     "execution_count": 18,
     "metadata": {},
     "output_type": "execute_result"
    }
   ],
   "source": [
    "modelo_rf = RandomForestClassifier(random_state=SEMENTE_ALEATORIA)\n",
    "modelo_rf.set_params(**best_params)\n"
   ]
  },
  {
   "cell_type": "code",
   "execution_count": 19,
   "metadata": {},
   "outputs": [
    {
     "name": "stdout",
     "output_type": "stream",
     "text": [
      "['Muito Barato' 'Muito Barato' 'Muito Barato' ... 'Muito Barato'\n",
      " 'Muito Barato' 'Muito Barato']\n",
      "Accuracy: 0.7769744160177976\n"
     ]
    }
   ],
   "source": [
    "modelo_rf.fit(X_treino, y_treino)\n",
    "previsao = modelo_rf.predict(X_teste)\n",
    "print(previsao)\n",
    "print(\"Accuracy:\",metrics.accuracy_score(y_teste, previsao))\n"
   ]
  },
  {
   "cell_type": "markdown",
   "metadata": {},
   "source": [
    "Modelo treinado! A acurácia foi de 77.7%, melhorou um pouco frente aos valores padrão, mas não muito. Pode ser que seja mais importante converter as features categóricas ordinais para utilizar no nosso modelo. Esta fica como tarfa para vocês :)"
   ]
  }
 ],
 "metadata": {
  "kernelspec": {
   "display_name": "Python 3 (ipykernel)",
   "language": "python",
   "name": "python3"
  },
  "language_info": {
   "codemirror_mode": {
    "name": "ipython",
    "version": 3
   },
   "file_extension": ".py",
   "mimetype": "text/x-python",
   "name": "python",
   "nbconvert_exporter": "python",
   "pygments_lexer": "ipython3",
   "version": "3.9.7"
  },
  "org": null
 },
 "nbformat": 4,
 "nbformat_minor": 4
}
