{
 "cells": [
  {
   "cell_type": "markdown",
   "metadata": {},
   "source": [
    "Floresta aleatória\n",
    "==================\n",
    "\n"
   ]
  },
  {
   "cell_type": "markdown",
   "metadata": {},
   "source": [
    "## O algoritmo da floresta aleatória\n",
    "\n"
   ]
  },
  {
   "cell_type": "markdown",
   "metadata": {},
   "source": [
    "Nós vimos no notebook anterior o algoritmo de árvore de decisão. Ele gera modeloz relativamente simples e explicáveis, porém a performance destes modelos muitas vezes deixa a desejar.\n",
    "\n",
    "Mas e se montarmos um comitê (*ensemble*) contendo diversas árvores de decisão onde cada uma realiza sua previsão individual; podemos considerar que cada uma dessas previsões são &ldquo;votos&rdquo; e considerando todos os votos nós podemos chegar em uma resposta final. Será que juntar modelos com relativa baixa performance em um comitê pode nos ajudar a melhorar a nossa previsão?\n",
    "\n",
    "A resposta é *sim*! 🎉\n",
    "\n",
    "O nome do algoritmo descrito acima é &ldquo;floresta aleatória&rdquo;. É uma &ldquo;floresta&rdquo; pois é feita de diversas *árvores* de decisão. É &ldquo;aleatória&rdquo; pois o processo de construir cada uma das árvores de decisão desta floresta envolve amostragem dos exemplos e das features.\n",
    "\n",
    "Para uma fundamentação teórica mais aprofundada, assista ao vídeo sobre o tema do [StatQuest](https://youtu.be/J4Wdy0Wc_xQ).\n",
    "\n",
    "Para usar o `scikit-learn` para treinar um modelo de floresta aleatória, nós vamos seguir o mesmo procedimento que usamos nos notebooks anteriores.\n",
    "\n",
    "Vamos primeiro carregar os dados.\n",
    "\n"
   ]
  },
  {
   "cell_type": "code",
   "execution_count": 1,
   "metadata": {},
   "outputs": [],
   "source": [
    "import seaborn as sns\n",
    "from sklearn.model_selection import train_test_split\n",
    "\n",
    "TAMANHO_TESTE = 0.1\n",
    "SEMENTE_ALEATORIA = 61455\n",
    "DATASET_NAME = \"diamonds\"\n",
    "FEATURES = [\"carat\", \"depth\", \"table\", \"x\", \"y\", \"z\"]\n",
    "TARGET = [\"price\"]\n",
    "\n",
    "df = sns.load_dataset(DATASET_NAME)\n",
    "\n",
    "indices = df.index\n",
    "indices_treino, indices_teste = train_test_split(\n",
    "    indices, test_size=TAMANHO_TESTE, random_state=SEMENTE_ALEATORIA\n",
    ")\n",
    "\n",
    "df_treino = df.loc[indices_treino]\n",
    "df_teste = df.loc[indices_teste]\n",
    "\n",
    "# observe que usamos o .values aqui pois queremos apenas os valores\n",
    "X_treino = df_treino.reindex(FEATURES, axis=1).values\n",
    "y_treino = df_treino.reindex(TARGET, axis=1).values\n",
    "X_teste = df_teste.reindex(FEATURES, axis=1).values\n",
    "y_teste = df_teste.reindex(TARGET, axis=1).values"
   ]
  },
  {
   "cell_type": "markdown",
   "metadata": {},
   "source": [
    "Agora vamos treinar o modelo! Note que passamos o valor da semente aleatória para o argumento `random_state` na hora que criamos o modelo, assim como fizemos com a árvore de decisão no notebook anterior. A explicação é a mesma, retorne ao notebook de árvore de decisão caso não se recorde. Outro detalhe é que o `scikit-learn` dá um aviso quando tentamos treinar este modelo caso os nossos targets (`y_treino` e `y_teste`) sejam arrays com mais de uma dimensão (isto é, caso seu atributo `shape` tenha 2 ou mais elementos). Para evitar esse problema, os arrays em questão foram transformados para arrays unidimensionais com o método `ravel`.\n",
    "\n"
   ]
  },
  {
   "cell_type": "code",
   "execution_count": 2,
   "metadata": {},
   "outputs": [
    {
     "name": "stdout",
     "output_type": "stream",
     "text": [
      "(48546, 1) (5394, 1)\n",
      "(48546,) (5394,)\n",
      "\n",
      "[1077.97        777.26        785.86809524 ...  493.72        735.89\n",
      "  923.07      ]\n"
     ]
    }
   ],
   "source": [
    "from sklearn.ensemble import RandomForestRegressor\n",
    "\n",
    "# alterando o formato do target\n",
    "print(y_treino.shape, y_teste.shape)\n",
    "y_treino = y_treino.ravel()\n",
    "y_teste = y_teste.ravel()\n",
    "print(y_treino.shape, y_teste.shape)\n",
    "\n",
    "# cria o modelo\n",
    "modelo_rf = RandomForestRegressor(random_state=SEMENTE_ALEATORIA)\n",
    "\n",
    "# treina o modelo\n",
    "modelo_rf.fit(X_treino, y_treino)\n",
    "\n",
    "# realiza uma previsão usando o modelo treinado\n",
    "previsao = modelo_rf.predict(X_teste)\n",
    "print()\n",
    "print(previsao)"
   ]
  },
  {
   "cell_type": "markdown",
   "metadata": {},
   "source": [
    "Vamos checar a performance do nosso modelo de floresta aleatória.\n",
    "\n"
   ]
  },
  {
   "cell_type": "code",
   "execution_count": 3,
   "metadata": {},
   "outputs": [
    {
     "name": "stdout",
     "output_type": "stream",
     "text": [
      "O RMSE do modelo árvore de decisão foi de 1384.6366214316938 dólares.\n"
     ]
    }
   ],
   "source": [
    "from sklearn.metrics import mean_squared_error\n",
    "\n",
    "y_verdadeiro = y_teste\n",
    "y_previsao = modelo_rf.predict(X_teste)\n",
    "\n",
    "RMSE = mean_squared_error(y_verdadeiro, y_previsao, squared=False)\n",
    "\n",
    "print(f\"O RMSE do modelo árvore de decisão foi de {RMSE} dólares.\")"
   ]
  },
  {
   "cell_type": "markdown",
   "metadata": {},
   "source": [
    "O RMSE do modelo de floresta aleatória foi de 1385 dólares! Até agora este é o melhor RMSE de um modelo padrão sem alterar os hiperparâmetros.\n",
    "\n"
   ]
  },
  {
   "cell_type": "markdown",
   "metadata": {},
   "source": [
    "## Hiperparâmetros\n",
    "\n"
   ]
  },
  {
   "cell_type": "markdown",
   "metadata": {},
   "source": [
    "O algoritmo da floresta aleatória tem os mesmos hiperparâmetros do algoritmo da árvore de decisão e mais alguns outros. Todos eles podem ser conferidos na [documentação](https://scikit-learn.org/stable/modules/generated/sklearn.ensemble.RandomForestRegressor.html). Um novo hiperparâmetro muito importente é o `num_estimators` que controla o número de árvores que irão compor o comitê (por padrão esse valor é de 100).\n",
    "\n",
    "Fique atento que o argumento `n_jobs` deste algoritmo *não é um hiperparâmetro*, mas sim o controle de como os cálculos serão executados. Por padrão, o `scikit-learn` usa apenas um núcleo de CPU para induzir sua floresta aleatória. Isso pode ser muito lento! Considere aumentar esse valor se você tiver capacidade computacional para tal.\n",
    "\n",
    "O código abaixo testa três hiperparâmetros.\n",
    "\n"
   ]
  },
  {
   "cell_type": "code",
   "execution_count": 4,
   "metadata": {},
   "outputs": [
    {
     "name": "stdout",
     "output_type": "stream",
     "text": [
      "O RMSE do modelo RF usando n_estimators=10 max_leaf_nodes=None e max_depth=None foi de 1440.74 dólares.\n",
      "O RMSE do modelo RF usando n_estimators=100 max_leaf_nodes=None e max_depth=None foi de 1384.64 dólares.\n",
      "O RMSE do modelo RF usando n_estimators=300 max_leaf_nodes=None e max_depth=None foi de 1377.99 dólares.\n",
      "O RMSE do modelo RF usando n_estimators=10 max_leaf_nodes=None e max_depth=3 foi de 1418.18 dólares.\n",
      "O RMSE do modelo RF usando n_estimators=100 max_leaf_nodes=None e max_depth=3 foi de 1417.28 dólares.\n",
      "O RMSE do modelo RF usando n_estimators=300 max_leaf_nodes=None e max_depth=3 foi de 1418.01 dólares.\n",
      "O RMSE do modelo RF usando n_estimators=10 max_leaf_nodes=6 e max_depth=None foi de 1463.91 dólares.\n",
      "O RMSE do modelo RF usando n_estimators=100 max_leaf_nodes=6 e max_depth=None foi de 1461.31 dólares.\n",
      "O RMSE do modelo RF usando n_estimators=300 max_leaf_nodes=6 e max_depth=None foi de 1462.44 dólares.\n",
      "O RMSE do modelo RF usando n_estimators=10 max_leaf_nodes=6 e max_depth=3 foi de 1463.91 dólares.\n",
      "O RMSE do modelo RF usando n_estimators=100 max_leaf_nodes=6 e max_depth=3 foi de 1461.31 dólares.\n",
      "O RMSE do modelo RF usando n_estimators=300 max_leaf_nodes=6 e max_depth=3 foi de 1462.44 dólares.\n"
     ]
    }
   ],
   "source": [
    "from itertools import product\n",
    "\n",
    "NUM_ARVORES = [10, 100, 300]\n",
    "NUM_FOLHAS = [None, 6]\n",
    "NUM_PROFUNDIDADE = [None, 3]\n",
    "\n",
    "for n_folhas, n_profundidade, n_arvores in product(\n",
    "    NUM_FOLHAS, NUM_PROFUNDIDADE, NUM_ARVORES\n",
    "):\n",
    "    modelo_rf = RandomForestRegressor(\n",
    "        n_estimators=n_arvores,\n",
    "        max_leaf_nodes=n_folhas,\n",
    "        max_depth=n_profundidade,\n",
    "        random_state=SEMENTE_ALEATORIA,\n",
    "        n_jobs=4,\n",
    "    )\n",
    "\n",
    "    modelo_rf.fit(X_treino, y_treino)\n",
    "\n",
    "    y_verdadeiro = y_teste\n",
    "    y_previsao = modelo_rf.predict(X_teste)\n",
    "    RMSE = mean_squared_error(y_verdadeiro, y_previsao, squared=False)\n",
    "\n",
    "    print(\n",
    "        f\"O RMSE do modelo RF usando \"\n",
    "        f\"n_estimators={n_arvores} max_leaf_nodes={n_folhas} \"\n",
    "        f\"e max_depth={n_profundidade} foi de {RMSE:.2f} dólares.\"\n",
    "    )"
   ]
  },
  {
   "cell_type": "markdown",
   "metadata": {},
   "source": [
    "Notou algum padrão?\n",
    "\n"
   ]
  },
  {
   "cell_type": "markdown",
   "metadata": {},
   "source": [
    "## Medindo a importância das features usando o conceito de impureza\n",
    "\n"
   ]
  },
  {
   "cell_type": "markdown",
   "metadata": {},
   "source": [
    "Nem todas as features têm a mesma &ldquo;importância&rdquo; quando um modelo realiza uma previsão. Em outras palavras, nem todas as features contribuem de maneira igual quando o modelo usa elas para prever o target.\n",
    "\n",
    "A importância de uma certa feature em um modelo treinado pelo algoritmo de floresta aleatória pode ser estimada observando o quanto esta feature contribuiu para reduzir a impureza de cada árvore contida no comitê (*ensemble*).\n",
    "\n",
    "<u>Impureza</u> é um conceito importante em árvores de decisão pois é usado em diversos algoritmos que nos permitem induzir árvores de decisão sem a necessidade de testar todas as possibilidades possíveis (lembre-se que induzir *a melhor* árvore de decisão é um problema NP-difícil, logo não sabemos se existe ou não um algoritmo eficiente para resolver este problema).\n",
    "\n",
    "Uma forma intuitiva de se entender impureza no contexto de regressão é pensar que cada target do seu dataset representa uma cor. Quanto mais próximos os valores, mais próximas as cores. Se todos os exemplos do seu dataset tem a cor roxa, então seu dataset tem pouca impureza. Se seus exemplos tem todas as cores do espectro visível, então seu dataset tem alta impureza. Em uma árvore de decisão, a função de cada vértice que contém um condicional é separar os dados de forma que cada vértice subsequente tenha uma impureza menor. É como se os vértices fossem sucessivamente separando as cores em verdes, vermelhos, azuis, etc, durante o caminhar pelo grafo da árvore de decisão. Cada separação é feita por um condicional e cada condicional testa uma feature. Logo, é esperado que algumas features irão reduzir mais a impureza do que outras. Dizemos que as features que reduzem mais a impureza são as que têm maior <u>importância</u>. Como uma floresta aleatória é formada de diversas árvores de decisão, podemos avaliar com boa estatística quais são as features que contribuem mais para reduzir a impureza.\n",
    "\n",
    "Vamos ver como podemos usar o `scikit-learn` para fazer essa análise. Primeiramente temos que treinar o modelo. Aqui vamos usar um modelo mais simples com apenas 50 árvores para o processo ficar mais rápido.\n",
    "\n"
   ]
  },
  {
   "cell_type": "code",
   "execution_count": 5,
   "metadata": {},
   "outputs": [
    {
     "data": {
      "text/html": [
       "<style>#sk-container-id-1 {color: black;background-color: white;}#sk-container-id-1 pre{padding: 0;}#sk-container-id-1 div.sk-toggleable {background-color: white;}#sk-container-id-1 label.sk-toggleable__label {cursor: pointer;display: block;width: 100%;margin-bottom: 0;padding: 0.3em;box-sizing: border-box;text-align: center;}#sk-container-id-1 label.sk-toggleable__label-arrow:before {content: \"▸\";float: left;margin-right: 0.25em;color: #696969;}#sk-container-id-1 label.sk-toggleable__label-arrow:hover:before {color: black;}#sk-container-id-1 div.sk-estimator:hover label.sk-toggleable__label-arrow:before {color: black;}#sk-container-id-1 div.sk-toggleable__content {max-height: 0;max-width: 0;overflow: hidden;text-align: left;background-color: #f0f8ff;}#sk-container-id-1 div.sk-toggleable__content pre {margin: 0.2em;color: black;border-radius: 0.25em;background-color: #f0f8ff;}#sk-container-id-1 input.sk-toggleable__control:checked~div.sk-toggleable__content {max-height: 200px;max-width: 100%;overflow: auto;}#sk-container-id-1 input.sk-toggleable__control:checked~label.sk-toggleable__label-arrow:before {content: \"▾\";}#sk-container-id-1 div.sk-estimator input.sk-toggleable__control:checked~label.sk-toggleable__label {background-color: #d4ebff;}#sk-container-id-1 div.sk-label input.sk-toggleable__control:checked~label.sk-toggleable__label {background-color: #d4ebff;}#sk-container-id-1 input.sk-hidden--visually {border: 0;clip: rect(1px 1px 1px 1px);clip: rect(1px, 1px, 1px, 1px);height: 1px;margin: -1px;overflow: hidden;padding: 0;position: absolute;width: 1px;}#sk-container-id-1 div.sk-estimator {font-family: monospace;background-color: #f0f8ff;border: 1px dotted black;border-radius: 0.25em;box-sizing: border-box;margin-bottom: 0.5em;}#sk-container-id-1 div.sk-estimator:hover {background-color: #d4ebff;}#sk-container-id-1 div.sk-parallel-item::after {content: \"\";width: 100%;border-bottom: 1px solid gray;flex-grow: 1;}#sk-container-id-1 div.sk-label:hover label.sk-toggleable__label {background-color: #d4ebff;}#sk-container-id-1 div.sk-serial::before {content: \"\";position: absolute;border-left: 1px solid gray;box-sizing: border-box;top: 0;bottom: 0;left: 50%;z-index: 0;}#sk-container-id-1 div.sk-serial {display: flex;flex-direction: column;align-items: center;background-color: white;padding-right: 0.2em;padding-left: 0.2em;position: relative;}#sk-container-id-1 div.sk-item {position: relative;z-index: 1;}#sk-container-id-1 div.sk-parallel {display: flex;align-items: stretch;justify-content: center;background-color: white;position: relative;}#sk-container-id-1 div.sk-item::before, #sk-container-id-1 div.sk-parallel-item::before {content: \"\";position: absolute;border-left: 1px solid gray;box-sizing: border-box;top: 0;bottom: 0;left: 50%;z-index: -1;}#sk-container-id-1 div.sk-parallel-item {display: flex;flex-direction: column;z-index: 1;position: relative;background-color: white;}#sk-container-id-1 div.sk-parallel-item:first-child::after {align-self: flex-end;width: 50%;}#sk-container-id-1 div.sk-parallel-item:last-child::after {align-self: flex-start;width: 50%;}#sk-container-id-1 div.sk-parallel-item:only-child::after {width: 0;}#sk-container-id-1 div.sk-dashed-wrapped {border: 1px dashed gray;margin: 0 0.4em 0.5em 0.4em;box-sizing: border-box;padding-bottom: 0.4em;background-color: white;}#sk-container-id-1 div.sk-label label {font-family: monospace;font-weight: bold;display: inline-block;line-height: 1.2em;}#sk-container-id-1 div.sk-label-container {text-align: center;}#sk-container-id-1 div.sk-container {/* jupyter's `normalize.less` sets `[hidden] { display: none; }` but bootstrap.min.css set `[hidden] { display: none !important; }` so we also need the `!important` here to be able to override the default hidden behavior on the sphinx rendered scikit-learn.org. See: https://github.com/scikit-learn/scikit-learn/issues/21755 */display: inline-block !important;position: relative;}#sk-container-id-1 div.sk-text-repr-fallback {display: none;}</style><div id=\"sk-container-id-1\" class=\"sk-top-container\"><div class=\"sk-text-repr-fallback\"><pre>RandomForestRegressor(n_estimators=50, n_jobs=4, random_state=61455)</pre><b>In a Jupyter environment, please rerun this cell to show the HTML representation or trust the notebook. <br />On GitHub, the HTML representation is unable to render, please try loading this page with nbviewer.org.</b></div><div class=\"sk-container\" hidden><div class=\"sk-item\"><div class=\"sk-estimator sk-toggleable\"><input class=\"sk-toggleable__control sk-hidden--visually\" id=\"sk-estimator-id-1\" type=\"checkbox\" checked><label for=\"sk-estimator-id-1\" class=\"sk-toggleable__label sk-toggleable__label-arrow\">RandomForestRegressor</label><div class=\"sk-toggleable__content\"><pre>RandomForestRegressor(n_estimators=50, n_jobs=4, random_state=61455)</pre></div></div></div></div></div>"
      ],
      "text/plain": [
       "RandomForestRegressor(n_estimators=50, n_jobs=4, random_state=61455)"
      ]
     },
     "execution_count": 5,
     "metadata": {},
     "output_type": "execute_result"
    }
   ],
   "source": [
    "N_ARVORES = 50\n",
    "N_JOBS = 4\n",
    "\n",
    "modelo_rf = RandomForestRegressor(\n",
    "    n_estimators=N_ARVORES,\n",
    "    random_state=SEMENTE_ALEATORIA,\n",
    "    n_jobs=N_JOBS,\n",
    ")\n",
    "\n",
    "modelo_rf.fit(X_treino, y_treino)"
   ]
  },
  {
   "cell_type": "markdown",
   "metadata": {},
   "source": [
    "O `scikit-learn` já computa as importâncias de florestas aleatórias automaticamente e armazena elas no atributo `feature_importances_`. Dica: atributos que terminam com um sublinhado (`_`) dizem respeito a características do modelo que foram obtidas *após* o treinamento. Atributos que não terminam com sublinhado são características que foram determinadas *antes* do treinamento.\n",
    "\n",
    "O código abaixo avalia a importância e seu desvio padrão.\n",
    "\n"
   ]
  },
  {
   "cell_type": "code",
   "execution_count": 6,
   "metadata": {},
   "outputs": [
    {
     "data": {
      "image/png": "[encoded data removed]",
      "text/plain": [
       "<Figure size 640x480 with 1 Axes>"
      ]
     },
     "metadata": {},
     "output_type": "display_data"
    }
   ],
   "source": [
    "import matplotlib.pyplot as plt\n",
    "import numpy as np\n",
    "import pandas as pd\n",
    "\n",
    "importancia = modelo_rf.feature_importances_\n",
    "desvio_padrao = np.std(\n",
    "    [arvore.feature_importances_ for arvore in modelo_rf.estimators_], axis=0\n",
    ")\n",
    "\n",
    "serie_importancia = pd.Series(importancia, index=FEATURES)\n",
    "\n",
    "fig, axe = plt.subplots()\n",
    "serie_importancia.plot.bar(yerr=desvio_padrao, ax=axe)\n",
    "axe.set_ylabel(\"Redução média da impureza\")\n",
    "plt.show()"
   ]
  },
  {
   "cell_type": "markdown",
   "metadata": {},
   "source": [
    "Vemos que o peso quilate (`carat`) e a altura (`y`) do diamante são as características consideradas mais importantes nesta análise. O peso quilate promoveu uma redução média da impureza de aproximadamente 0,6 com um desvio padrão de aproximadamente 0,2. Fora essas duas, as demais features não apresentaram uma importância relevante nesta análise.\n",
    "\n",
    "Note que este parâmetro que chamamos de importância foi obtido utilizando características do modelo que ele adquiriu durante seu treino. Logo, este valor de importância apenas nos diz quais são as features mais importantes observadas nos dados de treino. Esta importância não nos diz quais são as features mais importantes no contexto de generalização do modelo (isto é, quais as features mais importantes no ato de prever um dado novo ainda não visto)!\n",
    "\n",
    "Por fim, valores de importância estimados pela impureza favorecem features de alta cardinalidade (tipicamente features numéricas ou contínuas) em detrimento de features de baixa cardinalidade (features categóricas ou features binárias).\n",
    "\n"
   ]
  },
  {
   "cell_type": "markdown",
   "metadata": {},
   "source": [
    "## Medindo a importância das features usando a técnica de permutação de atributos\n",
    "\n"
   ]
  },
  {
   "cell_type": "markdown",
   "metadata": {},
   "source": [
    "Existem outras formas de se medir o quanto uma feature é importante para um modelo. Uma delas é a técnica de <u>permutação de atributos</u>. Esta técnica se baseia em comparar como uma certa métrica de avaliação varia se nós embaralharmos os valores de um certo atributo.\n",
    "\n",
    "Vamos imaginar que o valor do peso quilate é muito importante para definir o preço do diamante. Se este valor é de fato muito importante, então ao embaralharmos os valores desta coluna (isto é, alterar os valores de posição de forma aleatória) isso vai impactar *muito* a previsão do modelo, fazendo com que ele apresente uma baixa performance nas métricas de avaliação.\n",
    "\n",
    "Nesta mesma linha, se embaralharmos os valores de uma feature que não é importante para a previsão do nosso target, então isso pouco irá influenciar a performance do modelo e pouco irá afetar as métricas de avaliação.\n",
    "\n",
    "Embaralhando todas as features um certo número de vezes, nós podemos quantificar o impacto das features nas métricas e com isso temos uma medida da importância das features: quanto maior o impacto mais importante a feature é!\n",
    "\n",
    "Aqui vamos trocar a métrica para o coeficiente de determinação ($R^2$) ao invés do RMSE. O coeficiente de determinação tem diversas formas de se calcular. O calculo que o `scikit-learn` faz considera que um valor de $R^2$ igual a zero significa que o seu modelo é tão bom quanto o modelo baseline que chuta sempre a média. Para o `scikit-learn` é possível ter um valor de $R^2$ negativo, basta seu modelo ser pior que o modelo baseline.\n",
    "\n",
    "Sem entrar no formalismo estatístico, temos que a forma de calcular o $R^2$ do `scikit-learn` é válida quando seu modelo linear possuí coeficiente linear (ou seja, tem a forma $y = ax + b$). Neste caso, a equação para o cálculo é $R^2 = 1 - (\\sum_i (y_i - \\hat{y}_i )^2)/(\\sum_i (y_i - \\bar{y})^2)$, onde $\\hat{y}_i$ é o valor de $y_i$ predito pelo modelo e $\\bar{y} = (1/n) \\sum_{i=1}^{n} y_i$ é a média dos valores de $y$.\n",
    "\n",
    "Quando nós usamos métricas para quantificar a performance de modelos de aprendizado de máquina, nós buscamos entender como o target previsto se distancia do target verdadeiro. Veja que neste caso não faz sentido termos um coeficiente linear! A relação esperada entre target previsto e target verdadeiro é uma reta que deve passar pela origem. Neste caso, temos que a fórmula para computar o $R^2$ é diferente: $R^2 = 1 - (\\sum_i (y_i - \\hat{y}_i )^2)/(\\sum_i y_i^2)$.\n",
    "\n",
    "Colocamos tudo que vimos acima no código abaixo.\n",
    "\n"
   ]
  },
  {
   "cell_type": "code",
   "execution_count": 7,
   "metadata": {},
   "outputs": [
    {
     "name": "stdout",
     "output_type": "stream",
     "text": [
      "O R^2 da previsão é de 0.9907766431356714\n",
      "\n",
      "carat   0.555 +/- 0.003\n",
      "y       0.182 +/- 0.001\n",
      "x       0.051 +/- 0.000\n",
      "z       0.036 +/- 0.000\n",
      "table   0.032 +/- 0.000\n",
      "depth   0.031 +/- 0.000\n"
     ]
    }
   ],
   "source": [
    "from sklearn.inspection import permutation_importance\n",
    "\n",
    "N_REPETICOES = 10\n",
    "\n",
    "\n",
    "def R2_1param(modelo, x, y):\n",
    "    \"\"\"Computa o coef. de determinação quando hip. alt. não tem coef. linear.\"\"\"\n",
    "    y_pred = modelo.predict(x).ravel()\n",
    "    y_true = (np.array(y)).ravel()\n",
    "    return 1 - sum((y_true - y_pred) ** 2) / sum(y_true**2)\n",
    "\n",
    "\n",
    "X_local = X_treino\n",
    "y_local = y_treino\n",
    "\n",
    "R2 = R2_1param(modelo_rf, X_local, y_local)\n",
    "print(f\"O R^2 da previsão é de {R2}\")\n",
    "\n",
    "# Aqui que calculamos a importância das features\n",
    "r = permutation_importance(\n",
    "    modelo_rf,\n",
    "    X_local,\n",
    "    y_local,\n",
    "    n_repeats=N_REPETICOES,\n",
    "    random_state=SEMENTE_ALEATORIA,\n",
    "    scoring=R2_1param,\n",
    ")\n",
    "\n",
    "print()\n",
    "\n",
    "# Aqui nós exibimos os resultados obtidos\n",
    "for i in r.importances_mean.argsort()[::-1]:\n",
    "    if r.importances_mean[i] - 2 * r.importances_std[i] > 0:\n",
    "        print(f\"{FEATURES[i]:<8}\"\n",
    "              f\"{r.importances_mean[i]:.3f}\"\n",
    "              f\" +/- {r.importances_std[i]:.3f}\")"
   ]
  },
  {
   "cell_type": "markdown",
   "metadata": {},
   "source": [
    "Vemos da análise acima que o peso quilate por essa análise contribui com grande parte do valor do $R^2$, seguido da feature que representa a altura do diamante.\n",
    "\n",
    "Note que na análise acima nós usamos os dados de treino para computar a importância das features. Fizemos isso para poder comparar com as importância usando a metodologia da impureza que vimos na seção anterior. Podemos rodar o código acima usando os dados de teste. Neste caso, estamos avaliando qual das features é a mais importante para a *generalização* do modelo.\n",
    "\n"
   ]
  },
  {
   "cell_type": "code",
   "execution_count": 8,
   "metadata": {},
   "outputs": [
    {
     "name": "stdout",
     "output_type": "stream",
     "text": [
      "O R^2 da previsão é de 0.9387281285351374\n",
      "\n",
      "carat   0.515 +/- 0.007\n",
      "y       0.135 +/- 0.004\n",
      "x       0.019 +/- 0.001\n",
      "table   0.005 +/- 0.001\n",
      "z       0.005 +/- 0.000\n",
      "depth   0.005 +/- 0.001\n"
     ]
    }
   ],
   "source": [
    "X_local = X_teste\n",
    "y_local = y_teste\n",
    "\n",
    "R2 = R2_1param(modelo_rf, X_local, y_local)\n",
    "print(f\"O R^2 da previsão é de {R2}\")\n",
    "\n",
    "# Aqui que calculamos a importância das features\n",
    "r = permutation_importance(\n",
    "    modelo_rf,\n",
    "    X_local,\n",
    "    y_local,\n",
    "    n_repeats=N_REPETICOES,\n",
    "    random_state=SEMENTE_ALEATORIA,\n",
    "    scoring=R2_1param,\n",
    ")\n",
    "\n",
    "print()\n",
    "\n",
    "# Aqui nós exibimos os resultados obtidos\n",
    "for i in r.importances_mean.argsort()[::-1]:\n",
    "    if r.importances_mean[i] - 2 * r.importances_std[i] > 0:\n",
    "        print(f\"{FEATURES[i]:<8}\"\n",
    "              f\"{r.importances_mean[i]:.3f}\"\n",
    "              f\" +/- {r.importances_std[i]:.3f}\")"
   ]
  },
  {
   "cell_type": "markdown",
   "metadata": {},
   "source": [
    "Não observamos uma diferença significativa entre o resultado utilizando os dados de teste em comparação com os de treino.\n",
    "\n",
    "Features que tem grande importância nos dados de treino mas não tem grande importância nos dados de teste podem ser features que levam ao sobreajuste.\n",
    "\n",
    "Por fim, é importante ressaltar que se seu modelo <u>é ruim</u> então sua análise de importância não será representativa do que realmente importa. A análise de importância é indissociável do modelo usado para inferência.\n",
    "\n"
   ]
  },
  {
   "cell_type": "markdown",
   "metadata": {},
   "source": [
    "## Referências e leitura adicional\n",
    "\n"
   ]
  },
  {
   "cell_type": "markdown",
   "metadata": {},
   "source": [
    "1.  [https://scikit-learn.org/stable/modules/generated/sklearn.ensemble.RandomForestRegressor.html](https://scikit-learn.org/stable/modules/generated/sklearn.ensemble.RandomForestRegressor.html)\n",
    "2.  [https://youtu.be/J4Wdy0Wc_xQ](https://youtu.be/J4Wdy0Wc_xQ)\n",
    "3.  [https://scikit-learn.org/stable/auto_examples/ensemble/plot_forest_importances.html](https://scikit-learn.org/stable/auto_examples/ensemble/plot_forest_importances.html)\n",
    "4.  [https://scikit-learn.org/stable/modules/permutation_importance.html](https://scikit-learn.org/stable/modules/permutation_importance.html)\n",
    "5.  [https://scikit-learn.org/stable/modules/generated/sklearn.inspection.permutation_importance.html#sklearn.inspection.permutation_importance](https://scikit-learn.org/stable/modules/generated/sklearn.inspection.permutation_importance.html#sklearn.inspection.permutation_importance)\n",
    "6.  [https://scikit-learn.org/stable/auto_examples/inspection/plot_permutation_importance.html#sphx-glr-auto-examples-inspection-plot-permutation-importance-py](https://scikit-learn.org/stable/auto_examples/inspection/plot_permutation_importance.html#sphx-glr-auto-examples-inspection-plot-permutation-importance-py)\n",
    "7.  [https://scikit-learn.org/stable/auto_examples/inspection/plot_permutation_importance_multicollinear.html#sphx-glr-auto-examples-inspection-plot-permutation-importance-multicollinear-py](https://scikit-learn.org/stable/auto_examples/inspection/plot_permutation_importance_multicollinear.html#sphx-glr-auto-examples-inspection-plot-permutation-importance-multicollinear-py)\n",
    "8.  [https://stats.stackexchange.com/a/360750](https://stats.stackexchange.com/a/360750)\n",
    "9.  [https://stats.stackexchange.com/a/37442](https://stats.stackexchange.com/a/37442)\n",
    "\n"
   ]
  }
 ],
 "metadata": {
  "kernelspec": {
   "display_name": "ilumpy",
   "language": "python",
   "name": "ilumpy"
  },
  "language_info": {
   "codemirror_mode": {
    "name": "ipython",
    "version": 3
   },
   "file_extension": ".py",
   "mimetype": "text/x-python",
   "name": "python",
   "nbconvert_exporter": "python",
   "pygments_lexer": "ipython3",
   "version": "3.9.7"
  },
  "org": null
 },
 "nbformat": 4,
 "nbformat_minor": 4
}
