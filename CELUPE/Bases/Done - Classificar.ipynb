{
 "cells": [
  {
   "cell_type": "code",
   "execution_count": 46,
   "id": "dc20d67c-b926-4a2d-b448-d3659fd8dbe1",
   "metadata": {},
   "outputs": [],
   "source": [
    "import numpy as np\n",
    "import pandas as pd\n",
    "import seaborn as sns\n",
    "import matplotlib.pyplot as plt\n",
    "\n",
    "#no dado original, havia uma coluna sem nome (com os indexes). seria difícil remover assim. Nomeei-a de \"A\", para priorizar \n",
    "#o index do pandas.\n",
    "\n",
    "# Função para normalizar todas as colunas de um dataframe pelo método de valor mínimo 0 e máximo 1\n",
    "def normalizar(df):\n",
    "    resultado = df.copy()\n",
    "    for coluna in df.columns:\n",
    "        if df[coluna].max() == 0:\n",
    "            continue\n",
    "        else:\n",
    "            valor_max = df[coluna].max()\n",
    "            valor_min = df[coluna].min()\n",
    "            resultado[coluna] = (df[coluna] - valor_min) / (valor_max - valor_min)\n",
    "    return resultado\n"
   ]
  },
  {
   "cell_type": "code",
   "execution_count": 47,
   "id": "835217f3-87e4-4412-8ad3-c1bbbb589197",
   "metadata": {
    "tags": []
   },
   "outputs": [
    {
     "name": "stdout",
     "output_type": "stream",
     "text": [
      "     Mohs Hardness  Specific Gravity  Refractive Index  Molar Mass  \\\n",
      "0             4.50             3.240             1.580  817.339002   \n",
      "1             2.75             3.446             1.592  435.069330   \n",
      "2             2.00             4.420             2.085  921.092220   \n",
      "4             5.50             1.050             1.634  861.185368   \n",
      "5             3.50             3.295             1.457  225.618151   \n",
      "..             ...               ...               ...         ...   \n",
      "803           7.50             4.650             1.928  526.041800   \n",
      "805           6.50             3.230             1.702  379.378178   \n",
      "806           3.50             2.180             1.590  492.887716   \n",
      "807           7.00             3.411             1.596  263.580584   \n",
      "808           0.00             3.146             1.633  576.801907   \n",
      "\n",
      "     Molar Volume  Calculated Density  \n",
      "0        0.123390               5.498  \n",
      "1        0.056083               6.439  \n",
      "2        0.122631               6.234  \n",
      "4        0.112074               6.378  \n",
      "5        0.044887               4.172  \n",
      "..            ...                 ...  \n",
      "803      0.078468               5.564  \n",
      "805      0.100890               3.121  \n",
      "806      0.078566               5.207  \n",
      "807      0.089458               2.446  \n",
      "808      0.078605               6.091  \n",
      "\n",
      "[588 rows x 6 columns]\n"
     ]
    }
   ],
   "source": [
    "#criando o DataFrame \"df_chem\"\n",
    "df = pd.read_csv(\"Minerals_Database3.csv\")  # Importação do dataset para ser utilizado como dataframe\n",
    "# Remoção de colunas não necessárias para o dataframe\n",
    "\n",
    "df = df.drop(['A'], axis=1)\n",
    "df = df.drop(['Name'], axis=1)\n",
    "\n",
    "dados_cat = df.reindex(df.columns[[0,2,4]], axis = 1) # Remoção de dados categóricos\n",
    "dados_categoricos = dados_cat.astype(\"category\") # Tratamento de dados para o tipo categórico\n",
    "newlist = [x for x in range(7,135)] # Range para pegarmos dados que estão em porcentagem\n",
    "porcent_df = df.reindex(df.columns[newlist], axis = 1) # Coleta dos dados de elementos em porcentagem\n",
    "df_chem = df.reindex(df.columns[[1,3,5,135,136,137]], axis=1) # Reindexação de um dataframe contendo apenas propriedades fisico-químicas\n",
    "df_chem\n",
    "df_chem, dados_categoricos\n",
    "\n",
    "df_remove=df_chem.loc[(df_chem[\"Refractive Index\"] == 0.000)] #remove as linhas (objetos), cujo valor do índice de refração é 0\n",
    "#df_remove=df_chem.loc[(df_chem[\"Mohs Hardness\"] == 0.000)]\n",
    "\n",
    "df_chem = df_chem.drop(df_remove.index) #considera que o dataframe df_chem é o dataframe com as linhas removidas\n",
    "print(df_chem)\n"
   ]
  },
  {
   "cell_type": "code",
   "execution_count": 48,
   "id": "1cce5ec8-3331-42b4-87c4-a754ae44e437",
   "metadata": {},
   "outputs": [],
   "source": [
    "from sklearn.model_selection import train_test_split\n",
    "from sklearn.dummy import DummyRegressor\n",
    "from sklearn.metrics import mean_squared_error\n",
    "from sklearn.linear_model import LinearRegression\n",
    "\n",
    "tamanho = 0.25 # Fração de dados escolhida para treino e teste\n",
    "seed = 2000\n",
    "\n",
    "i = df_chem.index\n",
    "i_treino, i_teste = train_test_split(i, test_size=tamanho, random_state = seed)\n",
    "\n",
    "df_treino = df_chem.loc[i_treino]\n",
    "df_teste = df_chem.loc[i_teste]\n",
    "\n",
    "#print(df_treino)\n",
    "#print()\n",
    "#print(df_teste)"
   ]
  },
  {
   "cell_type": "code",
   "execution_count": 49,
   "id": "694a20fc-83d9-470f-9d5e-6a8443c721ec",
   "metadata": {},
   "outputs": [],
   "source": [
    "#Definição dos parâmetros\n",
    "tamanho_rf = 0.1\n",
    "seed_rf = 1024\n",
    "nome = 'df_chem'\n",
    "atributos = [\"Mohs Hardness\",\"Specific Gravity\", 'Molar Mass', 'Molar Volume', 'Calculated Density']\n",
    "#atributos = [\"Mohs Hardness\", \"Refractive Index\", \"Dispersion\", 'Specific Gravity']\n",
    "target = [\"Refractive Index\"]\n",
    "\n",
    "i = df_chem.index\n",
    "i_treino, i_teste = train_test_split(i, test_size=tamanho_rf, random_state = seed_rf)\n",
    "\n",
    "df_treino = df_chem.loc[i_treino]\n",
    "df_teste = df_chem.loc[i_teste]\n",
    "\n",
    "# observe que usamos o .values aqui pois queremos apenas os valores\n",
    "X_treino = df_treino.reindex(atributos, axis=1).values\n",
    "y_treino = df_treino.reindex(target, axis=1).values\n",
    "X_teste = df_teste.reindex(atributos, axis=1).values\n",
    "y_teste = df_teste.reindex(target, axis=1).values"
   ]
  },
  {
   "cell_type": "code",
   "execution_count": 50,
   "id": "8ae063b7-579a-484e-8b24-ba3a666b3fce",
   "metadata": {},
   "outputs": [
    {
     "data": {
      "text/plain": [
       "array([[<AxesSubplot:title={'center':'Refractive Index'}>]], dtype=object)"
      ]
     },
     "execution_count": 50,
     "metadata": {},
     "output_type": "execute_result"
    },
    {
     "data": {
      "image/png": "[encoded data removed]",
      "text/plain": [
       "<Figure size 432x288 with 1 Axes>"
      ]
     },
     "metadata": {
      "needs_background": "light"
     },
     "output_type": "display_data"
    }
   ],
   "source": [
    "import seaborn as sns\n",
    "import pandas as pd\n",
    "\n",
    "TARGET =  [\"Refractive Index\"]\n",
    "df_chem[TARGET].hist(bins=20)\n"
   ]
  },
  {
   "cell_type": "code",
   "execution_count": 51,
   "id": "f21c32af-9ca4-441a-8243-1c1becb26d55",
   "metadata": {},
   "outputs": [
    {
     "data": {
      "text/plain": [
       "array([[<AxesSubplot:title={'center':'Refractive Index'}>]], dtype=object)"
      ]
     },
     "execution_count": 51,
     "metadata": {},
     "output_type": "execute_result"
    },
    {
     "data": {
      "image/png": "[encoded data removed]",
      "text/plain": [
       "<Figure size 432x288 with 1 Axes>"
      ]
     },
     "metadata": {
      "needs_background": "light"
     },
     "output_type": "display_data"
    }
   ],
   "source": [
    "df_chem[TARGET].hist(bins=120)"
   ]
  },
  {
   "cell_type": "code",
   "execution_count": 52,
   "id": "e14fa188-a07b-4ec3-9259-7ce2bc1c8a81",
   "metadata": {},
   "outputs": [
    {
     "name": "stdout",
     "output_type": "stream",
     "text": [
      "52 índice de Refração baixo\n",
      "410 índice de Refração médio\n",
      "78 índice de refração elevado\n",
      "48 índice de refração muito elevado\n"
     ]
    }
   ],
   "source": [
    "#logic = df_chem[\"Refractive Index\"] <= 0.0\n",
    "#print(len(df_chem.loc[logic]),'índice de refração muito baixo')\n",
    "logic = (df_chem[\"Refractive Index\"] != 0.0) & (df_chem[\"Refractive Index\"] <= 1.5)\n",
    "print(len(df_chem.loc[logic]),'índice de Refração baixo')\n",
    "logic = (df_chem[\"Refractive Index\"] > 1.5) & (df_chem[\"Refractive Index\"] <= 1.8)\n",
    "print(len(df_chem.loc[logic]),'índice de Refração médio')\n",
    "logic = (df_chem[\"Refractive Index\"] > 1.8) & (df_chem[\"Refractive Index\"] <= 2.1)\n",
    "print(len(df_chem.loc[logic]),'índice de refração elevado')\n",
    "logic = (df_chem[\"Refractive Index\"] > 2.1)\n",
    "print(len(df_chem.loc[logic]),'índice de refração muito elevado')"
   ]
  },
  {
   "cell_type": "code",
   "execution_count": 53,
   "id": "1f37559d-b40b-437c-97f2-eabed54fe6d5",
   "metadata": {
    "tags": []
   },
   "outputs": [
    {
     "name": "stdout",
     "output_type": "stream",
     "text": [
      "     Mohs Hardness  Specific Gravity  Refractive Index  Molar Mass  \\\n",
      "0             4.50             3.240             1.580  817.339002   \n",
      "1             2.75             3.446             1.592  435.069330   \n",
      "2             2.00             4.420             2.085  921.092220   \n",
      "4             5.50             1.050             1.634  861.185368   \n",
      "5             3.50             3.295             1.457  225.618151   \n",
      "..             ...               ...               ...         ...   \n",
      "803           7.50             4.650             1.928  526.041800   \n",
      "805           6.50             3.230             1.702  379.378178   \n",
      "806           3.50             2.180             1.590  492.887716   \n",
      "807           7.00             3.411             1.596  263.580584   \n",
      "808           0.00             3.146             1.633  576.801907   \n",
      "\n",
      "     Molar Volume  Calculated Density        Refrativo Categórico  \n",
      "0        0.123390               5.498    índice de Refração médio  \n",
      "1        0.056083               6.439    índice de Refração médio  \n",
      "2        0.122631               6.234  índice de refração elevado  \n",
      "4        0.112074               6.378    índice de Refração médio  \n",
      "5        0.044887               4.172    índice de Refração baixo  \n",
      "..            ...                 ...                         ...  \n",
      "803      0.078468               5.564  índice de refração elevado  \n",
      "805      0.100890               3.121    índice de Refração médio  \n",
      "806      0.078566               5.207    índice de Refração médio  \n",
      "807      0.089458               2.446    índice de Refração médio  \n",
      "808      0.078605               6.091    índice de Refração médio  \n",
      "\n",
      "[588 rows x 7 columns]\n"
     ]
    }
   ],
   "source": [
    "df_chem['Refrativo Categórico'] = None\n",
    "\n",
    "#logic = df_chem[\"Refractive Index\"] <= 0.4\n",
    "#df_chem.loc[logic, 'Refrativo Categórico'] = 'índice de refração muito baixo'\n",
    "logic = (df_chem[\"Refractive Index\"] > 0.4) & (df_chem[\"Refractive Index\"] <= 1.5)\n",
    "df_chem.loc[logic, 'Refrativo Categórico'] = 'índice de Refração baixo'\n",
    "logic = (df_chem[\"Refractive Index\"] > 1.5) & (df_chem[\"Refractive Index\"] <= 1.8)\n",
    "df_chem.loc[logic, 'Refrativo Categórico'] = 'índice de Refração médio'\n",
    "logic = (df_chem[\"Refractive Index\"] > 1.8) & (df_chem[\"Refractive Index\"] <= 2.1)\n",
    "df_chem.loc[logic, 'Refrativo Categórico'] = 'índice de refração elevado'\n",
    "logic = (df_chem[\"Refractive Index\"] > 2.1)\n",
    "df_chem.loc[logic, 'Refrativo Categórico'] = 'índice de refração muito elevado'\n",
    "print(df_chem)\n"
   ]
  },
  {
   "cell_type": "code",
   "execution_count": 56,
   "id": "9e9c0fa9-1a88-425d-84c0-4748d9551665",
   "metadata": {},
   "outputs": [],
   "source": [
    "import seaborn as sns\n",
    "from sklearn.model_selection import train_test_split\n",
    "\n",
    "TAMANHO_TESTE = 0.1\n",
    "SEMENTE_ALEATORIA = 1024\n",
    "FEATURES = [\"Mohs Hardness\",\"Specific Gravity\", 'Molar Mass', 'Molar Volume', 'Calculated Density']\n",
    "TARGET = [\"Refrativo Categórico\"]\n",
    "\n",
    "indices = df_chem.index\n",
    "indices_treino, indices_teste = train_test_split(\n",
    "    indices, test_size=TAMANHO_TESTE, random_state=SEMENTE_ALEATORIA\n",
    ")\n",
    "\n",
    "df_treino = df_chem.loc[indices_treino]\n",
    "df_teste = df_chem.loc[indices_teste]\n",
    "\n",
    "# observe que usamos o .values aqui pois queremos apenas os valores\n",
    "X_treino = df_treino.reindex(FEATURES, axis=1).values\n",
    "y_treino = df_treino.reindex(TARGET, axis=1).values.ravel()\n",
    "X_teste = df_teste.reindex(FEATURES, axis=1).values\n",
    "y_teste = df_teste.reindex(TARGET, axis=1).values.ravel()"
   ]
  },
  {
   "cell_type": "markdown",
   "id": "6dc9ff7b-10d5-4be9-893f-2df374dce9cb",
   "metadata": {},
   "source": [
    "### Árvore de decisão"
   ]
  },
  {
   "cell_type": "code",
   "execution_count": 57,
   "id": "3a166f0b-7e1b-4d91-96d2-2d395a10ca1c",
   "metadata": {
    "tags": []
   },
   "outputs": [
    {
     "name": "stdout",
     "output_type": "stream",
     "text": [
      "['índice de Refração médio' 'índice de Refração médio'\n",
      " 'índice de refração muito elevado' 'índice de Refração baixo'\n",
      " 'índice de Refração baixo' 'índice de Refração médio'\n",
      " 'índice de Refração médio' 'índice de Refração médio'\n",
      " 'índice de Refração médio' 'índice de refração elevado'\n",
      " 'índice de refração muito elevado' 'índice de Refração médio'\n",
      " 'índice de Refração médio' 'índice de Refração médio'\n",
      " 'índice de Refração médio' 'índice de Refração médio'\n",
      " 'índice de Refração médio' 'índice de refração muito elevado'\n",
      " 'índice de Refração médio' 'índice de Refração médio'\n",
      " 'índice de Refração médio' 'índice de Refração médio'\n",
      " 'índice de refração elevado' 'índice de Refração médio'\n",
      " 'índice de Refração médio' 'índice de Refração médio'\n",
      " 'índice de Refração médio' 'índice de Refração médio'\n",
      " 'índice de Refração médio' 'índice de Refração médio'\n",
      " 'índice de Refração baixo' 'índice de refração muito elevado'\n",
      " 'índice de Refração médio' 'índice de Refração baixo'\n",
      " 'índice de Refração médio' 'índice de Refração médio'\n",
      " 'índice de Refração médio' 'índice de Refração médio'\n",
      " 'índice de Refração médio' 'índice de Refração médio'\n",
      " 'índice de Refração médio' 'índice de Refração baixo'\n",
      " 'índice de Refração médio' 'índice de Refração baixo'\n",
      " 'índice de Refração médio' 'índice de refração elevado'\n",
      " 'índice de Refração médio' 'índice de Refração médio'\n",
      " 'índice de Refração médio' 'índice de Refração baixo'\n",
      " 'índice de Refração médio' 'índice de Refração médio'\n",
      " 'índice de Refração médio' 'índice de refração muito elevado'\n",
      " 'índice de Refração médio' 'índice de Refração médio'\n",
      " 'índice de Refração médio' 'índice de Refração médio'\n",
      " 'índice de Refração médio']\n"
     ]
    }
   ],
   "source": [
    "from sklearn.tree import DecisionTreeClassifier\n",
    "\n",
    "NUM_FOLHAS = 40\n",
    "NUM_PROFUNDIDADE = 10\n",
    "#CRITERIO = 'absolute_error'\n",
    "SPLITTER = \"best\"\n",
    "MINIMO_SPLIT = 2\n",
    "MINIMO_FOLHAS = 1\n",
    "PESO_FOLHAS = 0.0\n",
    "MAXIMO_FEATURES = None\n",
    "IMPUREZA_MINIMO = 0.0\n",
    "COMPLEXO_ALPHA = 0.0\n",
    "\n",
    "\n",
    "\n",
    "modelo_dt = DecisionTreeClassifier(\n",
    "        max_leaf_nodes=NUM_FOLHAS,\n",
    "        max_depth=NUM_PROFUNDIDADE,\n",
    "        #criterion=CRITERIO,\n",
    "        splitter=SPLITTER,\n",
    "        min_samples_split=MINIMO_SPLIT,\n",
    "        min_samples_leaf=MINIMO_FOLHAS,\n",
    "        min_weight_fraction_leaf=PESO_FOLHAS,\n",
    "        max_features=MAXIMO_FEATURES,\n",
    "        min_impurity_decrease=IMPUREZA_MINIMO,\n",
    "        ccp_alpha=COMPLEXO_ALPHA,\n",
    "        random_state=1024,\n",
    "    )\n",
    "\n",
    "\n",
    "# treina o modelo\n",
    "modelo_dt.fit(X_treino, y_treino)\n",
    "\n",
    "# realiza uma previsão usando o modelo treinado\n",
    "previsao = modelo_dt.predict(X_teste)\n",
    "previsao_teste = modelo_dt.predict(X_treino)\n",
    "print(previsao)"
   ]
  },
  {
   "cell_type": "code",
   "execution_count": 58,
   "id": "1d7cc6b7-542f-4ed2-8fcd-a4bb215110c2",
   "metadata": {},
   "outputs": [
    {
     "name": "stdout",
     "output_type": "stream",
     "text": [
      "Accuracy: 0.7966101694915254\n"
     ]
    }
   ],
   "source": [
    "from sklearn import metrics\n",
    "\n",
    "print(\"Accuracy:\",metrics.accuracy_score(y_teste, previsao))"
   ]
  },
  {
   "cell_type": "markdown",
   "id": "4e7d0c3c-be59-4233-a773-6432a9f9c0f8",
   "metadata": {},
   "source": [
    "A RMSE do modelo de baseline foi de  \"0.2560\".\n",
    "A Accuracy do modelo de classificação foi de \"0.7966\" "
   ]
  },
  {
   "cell_type": "code",
   "execution_count": 59,
   "id": "8daf296e-b095-4a1b-b1d7-69cc614db92d",
   "metadata": {
    "tags": []
   },
   "outputs": [
    {
     "name": "stdout",
     "output_type": "stream",
     "text": [
      "['índice de Refração médio' 'índice de Refração médio'\n",
      " 'índice de refração muito elevado' 'índice de Refração médio'\n",
      " 'índice de Refração médio' 'índice de Refração médio'\n",
      " 'índice de Refração médio' 'índice de Refração médio'\n",
      " 'índice de Refração médio' 'índice de Refração médio'\n",
      " 'índice de Refração médio' 'índice de Refração médio'\n",
      " 'índice de Refração médio' 'índice de Refração médio'\n",
      " 'índice de Refração médio' 'índice de Refração médio'\n",
      " 'índice de Refração médio' 'índice de refração muito elevado'\n",
      " 'índice de Refração médio' 'índice de Refração médio'\n",
      " 'índice de Refração médio' 'índice de Refração médio'\n",
      " 'índice de Refração médio' 'índice de Refração médio'\n",
      " 'índice de Refração médio' 'índice de Refração médio'\n",
      " 'índice de Refração médio' 'índice de Refração médio'\n",
      " 'índice de Refração médio' 'índice de Refração médio'\n",
      " 'índice de Refração baixo' 'índice de Refração médio'\n",
      " 'índice de Refração médio' 'índice de Refração baixo'\n",
      " 'índice de Refração médio' 'índice de Refração médio'\n",
      " 'índice de Refração médio' 'índice de Refração médio'\n",
      " 'índice de Refração médio' 'índice de Refração médio'\n",
      " 'índice de Refração médio' 'índice de Refração médio'\n",
      " 'índice de Refração médio' 'índice de Refração baixo'\n",
      " 'índice de Refração médio' 'índice de Refração médio'\n",
      " 'índice de Refração médio' 'índice de Refração médio'\n",
      " 'índice de Refração médio' 'índice de Refração médio'\n",
      " 'índice de Refração médio' 'índice de Refração médio'\n",
      " 'índice de Refração médio' 'índice de Refração médio'\n",
      " 'índice de Refração médio' 'índice de Refração médio'\n",
      " 'índice de Refração médio' 'índice de Refração médio'\n",
      " 'índice de Refração médio']\n"
     ]
    }
   ],
   "source": [
    "from sklearn.ensemble import RandomForestClassifier\n",
    "\n",
    "# cria o modelo\n",
    "modelo_rf = RandomForestClassifier(random_state=1024)\n",
    "\n",
    "# treina o modelo\n",
    "modelo_rf.fit(X_treino, y_treino)\n",
    "\n",
    "# realiza uma previsão usando o modelo treinado\n",
    "previsao = modelo_rf.predict(X_teste)\n",
    "print(previsao)"
   ]
  },
  {
   "cell_type": "code",
   "execution_count": 60,
   "id": "f70d8db0-1ce7-4b95-afe3-57b0ac7edff7",
   "metadata": {},
   "outputs": [
    {
     "name": "stdout",
     "output_type": "stream",
     "text": [
      "Accuracy: 0.8135593220338984\n"
     ]
    }
   ],
   "source": [
    "print(\"Accuracy:\",metrics.accuracy_score(y_teste, previsao))\n"
   ]
  },
  {
   "cell_type": "code",
   "execution_count": 61,
   "id": "e1e424a5-1eac-4f68-9ff6-2fd69797e106",
   "metadata": {},
   "outputs": [],
   "source": [
    "#print(\"Accuracy:\",metrics.accuracy_score(y_teste, previsao))"
   ]
  },
  {
   "cell_type": "code",
   "execution_count": 62,
   "id": "488b1884-1660-4b6b-92b6-a449b21b73e1",
   "metadata": {},
   "outputs": [
    {
     "data": {
      "text/plain": [
       "array([[ 2,  5,  0,  0],\n",
       "       [ 1, 44,  0,  0],\n",
       "       [ 0,  5,  0,  0],\n",
       "       [ 0,  0,  0,  2]], dtype=int64)"
      ]
     },
     "execution_count": 62,
     "metadata": {},
     "output_type": "execute_result"
    }
   ],
   "source": [
    "from sklearn.metrics import confusion_matrix\n",
    "confusion_matrix(y_teste, previsao)"
   ]
  },
  {
   "cell_type": "markdown",
   "id": "e4988e8d-821f-4aa7-bcb5-b08ced48e05a",
   "metadata": {},
   "source": [
    "Parece-me que o modelo acertou a maior parte das previsões."
   ]
  },
  {
   "cell_type": "code",
   "execution_count": null,
   "id": "f9f84ac9-16a6-42ef-aff6-2bc0fff2b2e8",
   "metadata": {},
   "outputs": [],
   "source": []
  }
 ],
 "metadata": {
  "kernelspec": {
   "display_name": "ilumpy",
   "language": "python",
   "name": "ilumpy"
  },
  "language_info": {
   "codemirror_mode": {
    "name": "ipython",
    "version": 3
   },
   "file_extension": ".py",
   "mimetype": "text/x-python",
   "name": "python",
   "nbconvert_exporter": "python",
   "pygments_lexer": "ipython3",
   "version": "3.9.7"
  }
 },
 "nbformat": 4,
 "nbformat_minor": 5
}
