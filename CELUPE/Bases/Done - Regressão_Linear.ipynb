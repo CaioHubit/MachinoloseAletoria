{
 "cells": [
  {
   "cell_type": "markdown",
   "id": "fc9e8275-72e7-4659-9f38-aedd5f135cda",
   "metadata": {},
   "source": [
    "### Regressão Linear"
   ]
  },
  {
   "cell_type": "markdown",
   "id": "3b98a06e-dd17-4942-a8c1-ea4f2f5ef45a",
   "metadata": {},
   "source": [
    "#### O que é o modelo de Regressão Linear?"
   ]
  },
  {
   "cell_type": "markdown",
   "id": "936d9706-a788-45f2-bca0-61f7b8d6574e",
   "metadata": {},
   "source": [
    "É um instrumento estatístico que consiste em um conjunto de técnicas baseadas na ideia de estimar o valor de uma variável de resultado por meio dos valores de outras variáveis denominadas preditoras. Desta forma, em Machine Learning este algoritmo supervisionado é utilizado para fazer análises preditivas."
   ]
  },
  {
   "cell_type": "markdown",
   "id": "dd6f4c62-61a6-496f-bb3d-44356222c582",
   "metadata": {},
   "source": [
    "#### Importação das bibliotecas e funções, coleta e tratamento dos dados"
   ]
  },
  {
   "cell_type": "code",
   "execution_count": 1,
   "id": "b877fbcb-17ef-4bb0-995d-6cd27092bd2e",
   "metadata": {},
   "outputs": [
    {
     "name": "stdout",
     "output_type": "stream",
     "text": [
      "     Mohs Hardness  Specific Gravity  Refractive Index  Molar Mass  \\\n",
      "0             4.50             3.240             1.580  817.339002   \n",
      "1             2.75             3.446             1.592  435.069330   \n",
      "2             2.00             4.420             2.085  921.092220   \n",
      "4             5.50             1.050             1.634  861.185368   \n",
      "5             3.50             3.295             1.457  225.618151   \n",
      "..             ...               ...               ...         ...   \n",
      "803           7.50             4.650             1.928  526.041800   \n",
      "805           6.50             3.230             1.702  379.378178   \n",
      "806           3.50             2.180             1.590  492.887716   \n",
      "807           7.00             3.411             1.596  263.580584   \n",
      "808           0.00             3.146             1.633  576.801907   \n",
      "\n",
      "     Molar Volume  Calculated Density  \n",
      "0        0.123390               5.498  \n",
      "1        0.056083               6.439  \n",
      "2        0.122631               6.234  \n",
      "4        0.112074               6.378  \n",
      "5        0.044887               4.172  \n",
      "..            ...                 ...  \n",
      "803      0.078468               5.564  \n",
      "805      0.100890               3.121  \n",
      "806      0.078566               5.207  \n",
      "807      0.089458               2.446  \n",
      "808      0.078605               6.091  \n",
      "\n",
      "[588 rows x 6 columns]\n"
     ]
    }
   ],
   "source": [
    "import pandas as pd #importa a biblioteca pandas para análise e manipulação de dados\n",
    "from sklearn.model_selection import train_test_split #importa a função train_test_split para dividir um conjunto de dados em treino e teste\n",
    "from sklearn.metrics import mean_squared_error #importa a função mean_squared_error utilizada como métrica para determinar o desempenho de um algoritmo\n",
    "import seaborn as sns # importa a biblioteca seaborn para visualização de dados\n",
    "import matplotlib.pyplot as plt #importa a bliblioteca matplotlib para visualização de dados\n",
    "from sklearn.linear_model import LinearRegression #importa a função LinearRegression para cálculo da Regressão Linear dos Mínimos Quadrados Ordinário\n",
    "\n",
    "#criando o DataFrame \"df_chem\"\n",
    "df = pd.read_csv(\"Minerals_Database3.csv\")  # Importação do dataset para ser utilizado como dataframe\n",
    "# Remoção de colunas não necessárias para o dataframe\n",
    "\n",
    "df = df.drop(['A'], axis=1)\n",
    "df = df.drop(['Name'], axis=1)\n",
    "\n",
    "dados_cat = df.reindex(df.columns[[0,2,4]], axis = 1) # Remoção de dados categóricos\n",
    "dados_categoricos = dados_cat.astype(\"category\") # Tratamento de dados para o tipo categórico\n",
    "newlist = [x for x in range(7,135)] # Range para pegarmos dados que estão em porcentagem\n",
    "porcent_df = df.reindex(df.columns[newlist], axis = 1) # Coleta dos dados de elementos em porcentagem\n",
    "df_chem = df.reindex(df.columns[[1,3,5,135,136,137]], axis=1) # Reindexação de um dataframe contendo apenas propriedades fisico-químicas\n",
    "df_chem\n",
    "df_chem, dados_categoricos\n",
    "\n",
    "df_remove=df_chem.loc[(df_chem[\"Refractive Index\"] == 0.000)] #remove as linhas (objetos), cujo valor do índice de refração é 0\n",
    "\n",
    "df_chem = df_chem.drop(df_remove.index) #considera que o dataframe df_chem é o dataframe com as linhas removidas\n",
    "print(df_chem)"
   ]
  },
  {
   "cell_type": "markdown",
   "id": "387963c8-ab8d-4945-a743-a0c042193b77",
   "metadata": {},
   "source": [
    "#### Definição de parâmetros para teste e treino dos dados"
   ]
  },
  {
   "cell_type": "code",
   "execution_count": 2,
   "id": "37538551-5491-4602-aebf-c5442c49503f",
   "metadata": {
    "tags": []
   },
   "outputs": [
    {
     "name": "stdout",
     "output_type": "stream",
     "text": [
      "     Mohs Hardness  Specific Gravity  Refractive Index   Molar Mass  \\\n",
      "615           0.00             5.700             1.737   298.038100   \n",
      "194           5.50             4.650             2.120   123.842500   \n",
      "306           4.50             2.285             1.516   257.230046   \n",
      "82            0.00             4.380             1.793   426.292200   \n",
      "339           3.00             6.420             2.358  1560.452603   \n",
      "..             ...               ...               ...          ...   \n",
      "64            2.50             1.715             1.513   155.071500   \n",
      "29            6.25             2.625             1.535   411.331124   \n",
      "762           5.50             0.000             1.495   340.284075   \n",
      "367           1.00             3.197             1.641   490.595370   \n",
      "250           5.00             4.535             2.069   656.503600   \n",
      "\n",
      "     Molar Volume  Calculated Density  \n",
      "615      0.033606               7.361  \n",
      "194      0.011210               9.169  \n",
      "306      0.033718               6.332  \n",
      "82       0.067053               5.277  \n",
      "339      0.190472               6.800  \n",
      "..            ...                 ...  \n",
      "64       0.033455               3.847  \n",
      "29       0.089706               3.806  \n",
      "762      0.089726               3.148  \n",
      "367      0.044914               9.066  \n",
      "250      0.100857               5.403  \n",
      "\n",
      "[441 rows x 6 columns]\n",
      "\n",
      "     Mohs Hardness  Specific Gravity  Refractive Index   Molar Mass  \\\n",
      "470           4.25             3.660             1.690   277.129780   \n",
      "611           2.50             2.290             1.536   223.971720   \n",
      "252           5.00             3.070             1.651   250.753231   \n",
      "716           6.00             2.820             1.627   746.816808   \n",
      "532           3.00             2.305             1.525  1095.418700   \n",
      "..             ...               ...               ...          ...   \n",
      "424           3.25             6.241             2.117   258.652100   \n",
      "388           5.50             3.240             1.711   925.116139   \n",
      "283           4.00             3.306             1.441    59.076403   \n",
      "454           3.75             2.270             1.524   613.908400   \n",
      "200           5.50             3.305             1.666   215.566380   \n",
      "\n",
      "     Molar Volume  Calculated Density  \n",
      "470      0.033683               6.829  \n",
      "611      0.179271               1.037  \n",
      "252      0.078441               2.653  \n",
      "716      0.235392               2.633  \n",
      "532      0.258006               3.524  \n",
      "..            ...                 ...  \n",
      "424      0.022244               9.651  \n",
      "388      0.123484               6.218  \n",
      "283      0.011228               4.367  \n",
      "454      0.123403               4.129  \n",
      "200      0.078447               2.281  \n",
      "\n",
      "[147 rows x 6 columns]\n"
     ]
    }
   ],
   "source": [
    "tamanho = 0.25 # Fração de dados escolhida para treino e teste\n",
    "seed = 567 # Determina o ponto onde será feita a separação dos dados\n",
    "\n",
    "i = df_chem.index # encontra a posição do índice de um elemento na lista de dados\n",
    "i_treino, i_teste = train_test_split(i, test_size=tamanho, random_state = seed)\n",
    "\n",
    "#Definindo o acesso ao grupo de linhas que serão usandos para treino e teste\n",
    "df_treino = df_chem.loc[i_treino]\n",
    "df_teste = df_chem.loc[i_teste]\n",
    "\n",
    "print(df_treino)\n",
    "print()\n",
    "print(df_teste)"
   ]
  },
  {
   "cell_type": "markdown",
   "id": "2aabc796-dc36-42bd-b0b4-2b716ed1c1ca",
   "metadata": {},
   "source": [
    "#### Definição de atributos e target para Regressão Linear"
   ]
  },
  {
   "cell_type": "code",
   "execution_count": 3,
   "id": "4dc2669a-2dcd-4374-b332-1ec7381d56d7",
   "metadata": {},
   "outputs": [],
   "source": [
    "# Modelo preditivo para Regressão Linear\n",
    "\n",
    "nome = 'df_chem'\n",
    "atributos = [\"Specific Gravity\", \"Mohs Hardness\", 'Molar Mass', 'Molar Volume', 'Calculated Density']\n",
    "target = [\"Refractive Index\"]\n",
    "\n",
    "# Define variáveis para os dados de treino e teste, e retorna com a lista de valores dos dados\n",
    "X_treino = df_treino.reindex(atributos, axis=1).values\n",
    "y_treino = df_treino.reindex(target, axis=1).values\n",
    "X_teste = df_teste.reindex(atributos, axis=1).values\n",
    "y_teste = df_teste.reindex(target, axis=1).values"
   ]
  },
  {
   "cell_type": "code",
   "execution_count": 4,
   "id": "d134607f-709b-4cc5-abcd-08ea58ed76d9",
   "metadata": {},
   "outputs": [],
   "source": [
    "# Modelo linear para compararmos com nossa Baseline\n",
    "\n",
    "linear = LinearRegression() # Criação do Modelo Linear\n",
    "\n",
    "linear.fit(X_treino, y_treino) # Treinamento do Modelo Linear\n",
    "\n",
    "previsao_linear = linear.predict(X_teste) # Previsão do modelo linear a partir do treino\n",
    "\n",
    "#print(previsao_linear)"
   ]
  },
  {
   "cell_type": "code",
   "execution_count": 5,
   "id": "49d2a0f3-ccba-4e60-90e5-03c9447b1a91",
   "metadata": {
    "tags": []
   },
   "outputs": [
    {
     "name": "stdout",
     "output_type": "stream",
     "text": [
      "\n",
      "    Ordinary least squares Linear Regression.\n",
      "\n",
      "    LinearRegression fits a linear model with coefficients w = (w1, ..., wp)\n",
      "    to minimize the residual sum of squares between the observed targets in\n",
      "    the dataset, and the targets predicted by the linear approximation.\n",
      "\n",
      "    Parameters\n",
      "    ----------\n",
      "    fit_intercept : bool, default=True\n",
      "        Whether to calculate the intercept for this model. If set\n",
      "        to False, no intercept will be used in calculations\n",
      "        (i.e. data is expected to be centered).\n",
      "\n",
      "    normalize : bool, default=False\n",
      "        This parameter is ignored when ``fit_intercept`` is set to False.\n",
      "        If True, the regressors X will be normalized before regression by\n",
      "        subtracting the mean and dividing by the l2-norm.\n",
      "        If you wish to standardize, please use\n",
      "        :class:`~sklearn.preprocessing.StandardScaler` before calling ``fit``\n",
      "        on an estimator with ``normalize=False``.\n",
      "\n",
      "    copy_X : bool, default=True\n",
      "        If True, X will be copied; else, it may be overwritten.\n",
      "\n",
      "    n_jobs : int, default=None\n",
      "        The number of jobs to use for the computation. This will only provide\n",
      "        speedup for n_targets > 1 and sufficient large problems.\n",
      "        ``None`` means 1 unless in a :obj:`joblib.parallel_backend` context.\n",
      "        ``-1`` means using all processors. See :term:`Glossary <n_jobs>`\n",
      "        for more details.\n",
      "\n",
      "    positive : bool, default=False\n",
      "        When set to ``True``, forces the coefficients to be positive. This\n",
      "        option is only supported for dense arrays.\n",
      "\n",
      "        .. versionadded:: 0.24\n",
      "\n",
      "    Attributes\n",
      "    ----------\n",
      "    coef_ : array of shape (n_features, ) or (n_targets, n_features)\n",
      "        Estimated coefficients for the linear regression problem.\n",
      "        If multiple targets are passed during the fit (y 2D), this\n",
      "        is a 2D array of shape (n_targets, n_features), while if only\n",
      "        one target is passed, this is a 1D array of length n_features.\n",
      "\n",
      "    rank_ : int\n",
      "        Rank of matrix `X`. Only available when `X` is dense.\n",
      "\n",
      "    singular_ : array of shape (min(X, y),)\n",
      "        Singular values of `X`. Only available when `X` is dense.\n",
      "\n",
      "    intercept_ : float or array of shape (n_targets,)\n",
      "        Independent term in the linear model. Set to 0.0 if\n",
      "        `fit_intercept = False`.\n",
      "\n",
      "    See Also\n",
      "    --------\n",
      "    Ridge : Ridge regression addresses some of the\n",
      "        problems of Ordinary Least Squares by imposing a penalty on the\n",
      "        size of the coefficients with l2 regularization.\n",
      "    Lasso : The Lasso is a linear model that estimates\n",
      "        sparse coefficients with l1 regularization.\n",
      "    ElasticNet : Elastic-Net is a linear regression\n",
      "        model trained with both l1 and l2 -norm regularization of the\n",
      "        coefficients.\n",
      "\n",
      "    Notes\n",
      "    -----\n",
      "    From the implementation point of view, this is just plain Ordinary\n",
      "    Least Squares (scipy.linalg.lstsq) or Non Negative Least Squares\n",
      "    (scipy.optimize.nnls) wrapped as a predictor object.\n",
      "\n",
      "    Examples\n",
      "    --------\n",
      "    >>> import numpy as np\n",
      "    >>> from sklearn.linear_model import LinearRegression\n",
      "    >>> X = np.array([[1, 1], [1, 2], [2, 2], [2, 3]])\n",
      "    >>> # y = 1 * x_0 + 2 * x_1 + 3\n",
      "    >>> y = np.dot(X, np.array([1, 2])) + 3\n",
      "    >>> reg = LinearRegression().fit(X, y)\n",
      "    >>> reg.score(X, y)\n",
      "    1.0\n",
      "    >>> reg.coef_\n",
      "    array([1., 2.])\n",
      "    >>> reg.intercept_\n",
      "    3.0...\n",
      "    >>> reg.predict(np.array([[3, 5]]))\n",
      "    array([16.])\n",
      "    \n",
      "\n",
      "        Fit linear model.\n",
      "\n",
      "        Parameters\n",
      "        ----------\n",
      "        X : {array-like, sparse matrix} of shape (n_samples, n_features)\n",
      "            Training data\n",
      "\n",
      "        y : array-like of shape (n_samples,) or (n_samples, n_targets)\n",
      "            Target values. Will be cast to X's dtype if necessary\n",
      "\n",
      "        sample_weight : array-like of shape (n_samples,), default=None\n",
      "            Individual weights for each sample\n",
      "\n",
      "            .. versionadded:: 0.17\n",
      "               parameter *sample_weight* support to LinearRegression.\n",
      "\n",
      "        Returns\n",
      "        -------\n",
      "        self : returns an instance of self.\n",
      "        \n"
     ]
    }
   ],
   "source": [
    "print(linear.__doc__)\n",
    "print(linear.fit.__doc__)"
   ]
  },
  {
   "cell_type": "code",
   "execution_count": 6,
   "id": "34c5ad22-cecc-468c-9793-643883b2e9cb",
   "metadata": {},
   "outputs": [
    {
     "name": "stdout",
     "output_type": "stream",
     "text": [
      "A RMSE do modelo linear foi uma Indice Refrativo de 0.2354673749765964\n"
     ]
    }
   ],
   "source": [
    "# Comparação se foi melhor ou não\n",
    "\n",
    "y_verdadeiro = y_teste\n",
    "y_previsao = linear.predict(X_teste)\n",
    "\n",
    "RMSE = mean_squared_error(y_verdadeiro, y_previsao, squared=False)\n",
    "print(f'A RMSE do modelo linear foi uma Indice Refrativo de {RMSE}')"
   ]
  },
  {
   "cell_type": "markdown",
   "id": "ab963aa9-1d89-45ba-a4fa-b981dd079c23",
   "metadata": {},
   "source": [
    "#### Em comparação com o modelo baseline (0.2560), o RMSE da Regressão Linear não foi absurdamente menor."
   ]
  },
  {
   "cell_type": "code",
   "execution_count": 7,
   "id": "90c1a32a-5ce9-4d0e-9981-a1407f3a907d",
   "metadata": {},
   "outputs": [
    {
     "data": {
      "text/plain": [
       "Text(0, 0.5, 'Previsão')"
      ]
     },
     "execution_count": 7,
     "metadata": {},
     "output_type": "execute_result"
    },
    {
     "data": {
      "image/png": "[encoded data removed]",
      "text/plain": [
       "<Figure size 432x288 with 1 Axes>"
      ]
     },
     "metadata": {
      "needs_background": "light"
     },
     "output_type": "display_data"
    }
   ],
   "source": [
    "# Visualização da Regressão Linear\n",
    "\n",
    "import matplotlib.pyplot as plt\n",
    "fig, ax2 = plt.subplots(1,1)\n",
    "ax2.scatter(y_verdadeiro, y_previsao, c = 'orange')\n",
    "ax2.plot(y_verdadeiro,y_verdadeiro,label=\"y=x\", c = 'r') ; ax2.legend(fontsize='small')\n",
    "ax2.set_xlim(1,3)\n",
    "if target ==  'Refractive Index':\n",
    "    ax2.set_title('')\n",
    "ax2.set_xlabel('Verdadeiro')\n",
    "ax2.set_ylabel('Previsão')"
   ]
  },
  {
   "cell_type": "code",
   "execution_count": 8,
   "id": "34514c7c-1fd2-4184-a816-13720b762a53",
   "metadata": {
    "tags": []
   },
   "outputs": [
    {
     "name": "stdout",
     "output_type": "stream",
     "text": [
      "A scatter plot of *y* vs. *x* with varying marker size and/or color.\n",
      "\n",
      "Parameters\n",
      "----------\n",
      "x, y : float or array-like, shape (n, )\n",
      "    The data positions.\n",
      "\n",
      "s : float or array-like, shape (n, ), optional\n",
      "    The marker size in points**2.\n",
      "    Default is ``rcParams['lines.markersize'] ** 2``.\n",
      "\n",
      "c : array-like or list of colors or color, optional\n",
      "    The marker colors. Possible values:\n",
      "\n",
      "    - A scalar or sequence of n numbers to be mapped to colors using\n",
      "      *cmap* and *norm*.\n",
      "    - A 2D array in which the rows are RGB or RGBA.\n",
      "    - A sequence of colors of length n.\n",
      "    - A single color format string.\n",
      "\n",
      "    Note that *c* should not be a single numeric RGB or RGBA sequence\n",
      "    because that is indistinguishable from an array of values to be\n",
      "    colormapped. If you want to specify the same RGB or RGBA value for\n",
      "    all points, use a 2D array with a single row.  Otherwise, value-\n",
      "    matching will have precedence in case of a size matching with *x*\n",
      "    and *y*.\n",
      "\n",
      "    If you wish to specify a single color for all points\n",
      "    prefer the *color* keyword argument.\n",
      "\n",
      "    Defaults to `None`. In that case the marker color is determined\n",
      "    by the value of *color*, *facecolor* or *facecolors*. In case\n",
      "    those are not specified or `None`, the marker color is determined\n",
      "    by the next color of the ``Axes``' current \"shape and fill\" color\n",
      "    cycle. This cycle defaults to :rc:`axes.prop_cycle`.\n",
      "\n",
      "marker : `~.markers.MarkerStyle`, default: :rc:`scatter.marker`\n",
      "    The marker style. *marker* can be either an instance of the class\n",
      "    or the text shorthand for a particular marker.\n",
      "    See :mod:`matplotlib.markers` for more information about marker\n",
      "    styles.\n",
      "\n",
      "cmap : str or `~matplotlib.colors.Colormap`, default: :rc:`image.cmap`\n",
      "    A `.Colormap` instance or registered colormap name. *cmap* is only\n",
      "    used if *c* is an array of floats.\n",
      "\n",
      "norm : `~matplotlib.colors.Normalize`, default: None\n",
      "    If *c* is an array of floats, *norm* is used to scale the color\n",
      "    data, *c*, in the range 0 to 1, in order to map into the colormap\n",
      "    *cmap*.\n",
      "    If *None*, use the default `.colors.Normalize`.\n",
      "\n",
      "vmin, vmax : float, default: None\n",
      "    *vmin* and *vmax* are used in conjunction with the default norm to\n",
      "    map the color array *c* to the colormap *cmap*. If None, the\n",
      "    respective min and max of the color array is used.\n",
      "    It is deprecated to use *vmin*/*vmax* when *norm* is given.\n",
      "\n",
      "alpha : float, default: None\n",
      "    The alpha blending value, between 0 (transparent) and 1 (opaque).\n",
      "\n",
      "linewidths : float or array-like, default: :rc:`lines.linewidth`\n",
      "    The linewidth of the marker edges. Note: The default *edgecolors*\n",
      "    is 'face'. You may want to change this as well.\n",
      "\n",
      "edgecolors : {'face', 'none', *None*} or color or sequence of color, default: :rc:`scatter.edgecolors`\n",
      "    The edge color of the marker. Possible values:\n",
      "\n",
      "    - 'face': The edge color will always be the same as the face color.\n",
      "    - 'none': No patch boundary will be drawn.\n",
      "    - A color or sequence of colors.\n",
      "\n",
      "    For non-filled markers, *edgecolors* is ignored. Instead, the color\n",
      "    is determined like with 'face', i.e. from *c*, *colors*, or\n",
      "    *facecolors*.\n",
      "\n",
      "plotnonfinite : bool, default: False\n",
      "    Whether to plot points with nonfinite *c* (i.e. ``inf``, ``-inf``\n",
      "    or ``nan``). If ``True`` the points are drawn with the *bad*\n",
      "    colormap color (see `.Colormap.set_bad`).\n",
      "\n",
      "Returns\n",
      "-------\n",
      "`~matplotlib.collections.PathCollection`\n",
      "\n",
      "Other Parameters\n",
      "----------------\n",
      "**kwargs : `~matplotlib.collections.Collection` properties\n",
      "\n",
      "See Also\n",
      "--------\n",
      "plot : To plot scatter plots when markers are identical in size and\n",
      "    color.\n",
      "\n",
      "Notes\n",
      "-----\n",
      "* The `.plot` function will be faster for scatterplots where markers\n",
      "  don't vary in size or color.\n",
      "\n",
      "* Any or all of *x*, *y*, *s*, and *c* may be masked arrays, in which\n",
      "  case all masks will be combined and only unmasked points will be\n",
      "  plotted.\n",
      "\n",
      "* Fundamentally, scatter works with 1D arrays; *x*, *y*, *s*, and *c*\n",
      "  may be input as N-D arrays, but within scatter they will be\n",
      "  flattened. The exception is *c*, which will be flattened only if its\n",
      "  size matches the size of *x* and *y*.\n",
      "\n",
      ".. note::\n",
      "    In addition to the above described arguments, this function can take\n",
      "    a *data* keyword argument. If such a *data* argument is given,\n",
      "    the following arguments can also be string ``s``, which is\n",
      "    interpreted as ``data[s]`` (unless this raises an exception):\n",
      "    *x*, *y*, *s*, *linewidths*, *edgecolors*, *c*, *facecolor*, *facecolors*, *color*.\n",
      "\n",
      "    Objects passed as **data** must support item access (``data[s]``) and\n",
      "    membership test (``s in data``).\n",
      " <bound method _AxesBase.set_xlim of <AxesSubplot:xlabel='Verdadeiro', ylabel='Previsão'>>\n"
     ]
    }
   ],
   "source": [
    "print(ax2.scatter.__doc__, ax2.set_xlim)"
   ]
  },
  {
   "cell_type": "markdown",
   "id": "39af6f96-70ce-40c5-933a-3f2364a71675",
   "metadata": {
    "tags": []
   },
   "source": [
    "#### Normalização dos dados"
   ]
  },
  {
   "cell_type": "markdown",
   "id": "cc0a720a-ce74-4399-8b9c-413497724455",
   "metadata": {},
   "source": [
    "A normalização dos dados é uma técnica aplicada na preparação dos dados com o objetivo de colocá-los em um intervalo de escala comum, que varia entre 0 e 1 para valores positivos ou -1 e 1 para valores negativos, o que pode impactar na acurácia da Regressão Linear."
   ]
  },
  {
   "cell_type": "code",
   "execution_count": 9,
   "id": "e113f24e-16d0-4ed2-977b-58f9f657544c",
   "metadata": {},
   "outputs": [],
   "source": [
    "# Função para normalizar os dados\n",
    "def normalizar(df):\n",
    "    resultado = df.copy()\n",
    "    for coluna in df.columns:\n",
    "        if df[coluna].max() == 0:\n",
    "            continue\n",
    "        else:\n",
    "            valor_max = df[coluna].max()\n",
    "            valor_min = df[coluna].min()\n",
    "            resultado[coluna] = (df[coluna] - valor_min) / (valor_max - valor_min)\n",
    "    return resultado"
   ]
  },
  {
   "cell_type": "code",
   "execution_count": 10,
   "id": "f24f4418-b57d-475d-92ad-56eeacade25f",
   "metadata": {
    "tags": []
   },
   "outputs": [
    {
     "data": {
      "text/html": [
       "<div>\n",
       "<style scoped>\n",
       "    .dataframe tbody tr th:only-of-type {\n",
       "        vertical-align: middle;\n",
       "    }\n",
       "\n",
       "    .dataframe tbody tr th {\n",
       "        vertical-align: top;\n",
       "    }\n",
       "\n",
       "    .dataframe thead th {\n",
       "        text-align: right;\n",
       "    }\n",
       "</style>\n",
       "<table border=\"1\" class=\"dataframe\">\n",
       "  <thead>\n",
       "    <tr style=\"text-align: right;\">\n",
       "      <th></th>\n",
       "      <th>Mohs Hardness</th>\n",
       "      <th>Specific Gravity</th>\n",
       "      <th>Refractive Index</th>\n",
       "      <th>Molar Mass</th>\n",
       "      <th>Molar Volume</th>\n",
       "      <th>Calculated Density</th>\n",
       "    </tr>\n",
       "  </thead>\n",
       "  <tbody>\n",
       "    <tr>\n",
       "      <th>0</th>\n",
       "      <td>0.473684</td>\n",
       "      <td>0.337746</td>\n",
       "      <td>0.246867</td>\n",
       "      <td>0.195427</td>\n",
       "      <td>0.093724</td>\n",
       "      <td>0.366797</td>\n",
       "    </tr>\n",
       "    <tr>\n",
       "      <th>1</th>\n",
       "      <td>0.289474</td>\n",
       "      <td>0.359220</td>\n",
       "      <td>0.251880</td>\n",
       "      <td>0.101141</td>\n",
       "      <td>0.037575</td>\n",
       "      <td>0.437773</td>\n",
       "    </tr>\n",
       "    <tr>\n",
       "      <th>2</th>\n",
       "      <td>0.210526</td>\n",
       "      <td>0.460753</td>\n",
       "      <td>0.457811</td>\n",
       "      <td>0.221018</td>\n",
       "      <td>0.093091</td>\n",
       "      <td>0.422311</td>\n",
       "    </tr>\n",
       "    <tr>\n",
       "      <th>4</th>\n",
       "      <td>0.578947</td>\n",
       "      <td>0.109455</td>\n",
       "      <td>0.269424</td>\n",
       "      <td>0.206242</td>\n",
       "      <td>0.084284</td>\n",
       "      <td>0.433172</td>\n",
       "    </tr>\n",
       "    <tr>\n",
       "      <th>5</th>\n",
       "      <td>0.368421</td>\n",
       "      <td>0.343480</td>\n",
       "      <td>0.195489</td>\n",
       "      <td>0.049480</td>\n",
       "      <td>0.028236</td>\n",
       "      <td>0.266782</td>\n",
       "    </tr>\n",
       "    <tr>\n",
       "      <th>...</th>\n",
       "      <td>...</td>\n",
       "      <td>...</td>\n",
       "      <td>...</td>\n",
       "      <td>...</td>\n",
       "      <td>...</td>\n",
       "      <td>...</td>\n",
       "    </tr>\n",
       "    <tr>\n",
       "      <th>803</th>\n",
       "      <td>0.789474</td>\n",
       "      <td>0.484728</td>\n",
       "      <td>0.392231</td>\n",
       "      <td>0.123579</td>\n",
       "      <td>0.056249</td>\n",
       "      <td>0.371776</td>\n",
       "    </tr>\n",
       "    <tr>\n",
       "      <th>805</th>\n",
       "      <td>0.684211</td>\n",
       "      <td>0.336704</td>\n",
       "      <td>0.297828</td>\n",
       "      <td>0.087404</td>\n",
       "      <td>0.074954</td>\n",
       "      <td>0.187509</td>\n",
       "    </tr>\n",
       "    <tr>\n",
       "      <th>806</th>\n",
       "      <td>0.368421</td>\n",
       "      <td>0.227249</td>\n",
       "      <td>0.251044</td>\n",
       "      <td>0.115402</td>\n",
       "      <td>0.056331</td>\n",
       "      <td>0.344848</td>\n",
       "    </tr>\n",
       "    <tr>\n",
       "      <th>807</th>\n",
       "      <td>0.736842</td>\n",
       "      <td>0.355572</td>\n",
       "      <td>0.253551</td>\n",
       "      <td>0.058843</td>\n",
       "      <td>0.065417</td>\n",
       "      <td>0.136597</td>\n",
       "    </tr>\n",
       "    <tr>\n",
       "      <th>808</th>\n",
       "      <td>0.000000</td>\n",
       "      <td>0.327947</td>\n",
       "      <td>0.269006</td>\n",
       "      <td>0.136099</td>\n",
       "      <td>0.056363</td>\n",
       "      <td>0.411525</td>\n",
       "    </tr>\n",
       "  </tbody>\n",
       "</table>\n",
       "<p>588 rows × 6 columns</p>\n",
       "</div>"
      ],
      "text/plain": [
       "     Mohs Hardness  Specific Gravity  Refractive Index  Molar Mass  \\\n",
       "0         0.473684          0.337746          0.246867    0.195427   \n",
       "1         0.289474          0.359220          0.251880    0.101141   \n",
       "2         0.210526          0.460753          0.457811    0.221018   \n",
       "4         0.578947          0.109455          0.269424    0.206242   \n",
       "5         0.368421          0.343480          0.195489    0.049480   \n",
       "..             ...               ...               ...         ...   \n",
       "803       0.789474          0.484728          0.392231    0.123579   \n",
       "805       0.684211          0.336704          0.297828    0.087404   \n",
       "806       0.368421          0.227249          0.251044    0.115402   \n",
       "807       0.736842          0.355572          0.253551    0.058843   \n",
       "808       0.000000          0.327947          0.269006    0.136099   \n",
       "\n",
       "     Molar Volume  Calculated Density  \n",
       "0        0.093724            0.366797  \n",
       "1        0.037575            0.437773  \n",
       "2        0.093091            0.422311  \n",
       "4        0.084284            0.433172  \n",
       "5        0.028236            0.266782  \n",
       "..            ...                 ...  \n",
       "803      0.056249            0.371776  \n",
       "805      0.074954            0.187509  \n",
       "806      0.056331            0.344848  \n",
       "807      0.065417            0.136597  \n",
       "808      0.056363            0.411525  \n",
       "\n",
       "[588 rows x 6 columns]"
      ]
     },
     "execution_count": 10,
     "metadata": {},
     "output_type": "execute_result"
    }
   ],
   "source": [
    "df_normalizado = normalizar(df_chem)\n",
    "df_normalizado"
   ]
  },
  {
   "cell_type": "markdown",
   "id": "be2b0ff1-de6a-4b53-8fe0-468aad498508",
   "metadata": {},
   "source": [
    "#### Regressão Linear com os dados normalizados"
   ]
  },
  {
   "cell_type": "code",
   "execution_count": 11,
   "id": "63390892-57b4-48de-bac6-cf0f309cf36e",
   "metadata": {
    "tags": []
   },
   "outputs": [
    {
     "name": "stdout",
     "output_type": "stream",
     "text": [
      "     Mohs Hardness  Specific Gravity  Refractive Index  Molar Mass  \\\n",
      "279       0.350526          0.314813          0.267335    0.171292   \n",
      "192       0.000000          0.297092          0.267335    0.028865   \n",
      "236       0.342105          0.641092          0.533835    0.089664   \n",
      "193       0.657895          0.331492          0.268170    0.057183   \n",
      "431       0.631579          0.271031          0.220969    0.143326   \n",
      "..             ...               ...               ...         ...   \n",
      "237       0.263158          0.000000          0.268170    0.310767   \n",
      "557       0.631579          0.376003          0.313701    0.017547   \n",
      "378       0.315789          0.323152          0.324979    0.037246   \n",
      "775       0.157895          0.427395          0.256057    0.121201   \n",
      "263       0.684211          0.000000          0.246032    0.038492   \n",
      "\n",
      "     Molar Volume  Calculated Density  \n",
      "279      0.075022            0.398175  \n",
      "192      0.018848            0.216473  \n",
      "236      0.018854            0.675140  \n",
      "193      0.056237            0.157037  \n",
      "431      0.047083            0.514406  \n",
      "..            ...                 ...  \n",
      "237      0.140643            0.399909  \n",
      "557      0.000147            0.488762  \n",
      "378      0.028219            0.197692  \n",
      "775      0.046958            0.432267  \n",
      "263      0.028197            0.204933  \n",
      "\n",
      "[441 rows x 6 columns]\n",
      "\n",
      "     Mohs Hardness  Specific Gravity  Refractive Index  Molar Mass  \\\n",
      "89        0.447368          0.429480          0.325397    0.058304   \n",
      "469       0.368421          0.275722          0.230576    0.122166   \n",
      "4         0.578947          0.109455          0.269424    0.206242   \n",
      "577       0.263158          0.000000          0.284461    0.109832   \n",
      "388       0.578947          0.337746          0.301587    0.222011   \n",
      "..             ...               ...               ...         ...   \n",
      "228       0.421053          0.321901          0.333751    0.063309   \n",
      "337       0.631579          0.000000          0.309106    0.052385   \n",
      "249       0.350526          0.000000          0.269006    0.123489   \n",
      "57        0.710526          0.401647          0.375104    0.036518   \n",
      "150       0.473684          0.000000          0.251462    0.113835   \n",
      "\n",
      "     Molar Volume  Calculated Density  \n",
      "89       0.046881            0.195505  \n",
      "469      0.065530            0.315658  \n",
      "4        0.084284            0.433172  \n",
      "577      0.149702            0.106653  \n",
      "388      0.093802            0.421104  \n",
      "..            ...                 ...  \n",
      "228      0.028240            0.344924  \n",
      "337      0.018855            0.393875  \n",
      "249      0.046973            0.440715  \n",
      "57       0.000178            0.914844  \n",
      "150      0.084395            0.223563  \n",
      "\n",
      "[147 rows x 6 columns]\n"
     ]
    }
   ],
   "source": [
    "tamanho = 0.25 # Fração de dados escolhida para treino e teste\n",
    "seed = 2000 # Determina o ponto onde será feita a separação dos dados\n",
    "\n",
    "i = df_normalizado.index\n",
    "i_treino, i_teste = train_test_split(i, test_size=tamanho, random_state = seed)\n",
    "\n",
    "df_treino = df_normalizado.loc[i_treino]\n",
    "df_teste = df_normalizado.loc[i_teste]\n",
    "\n",
    "print(df_treino)\n",
    "print()\n",
    "print(df_teste)"
   ]
  },
  {
   "cell_type": "code",
   "execution_count": 12,
   "id": "845f00f7-fd43-4751-bbd2-46d699195a76",
   "metadata": {},
   "outputs": [],
   "source": [
    "# Modelo preditivo de regressão linear normalizado\n",
    "\n",
    "nome = 'df_normalizado'\n",
    "atributos = [\"Mohs Hardness\",\"Specific Gravity\", 'Molar Mass', 'Molar Volume', 'Calculated Density']\n",
    "target = [\"Refractive Index\"]\n",
    "\n",
    "X_treinoN = df_treino.reindex(atributos, axis=1).values\n",
    "y_treinoN = df_treino.reindex(target, axis=1).values\n",
    "X_testeN = df_teste.reindex(atributos, axis=1).values\n",
    "y_testeN = df_teste.reindex(target, axis=1).values"
   ]
  },
  {
   "cell_type": "code",
   "execution_count": 13,
   "id": "a4b4f3cf-abe9-4175-a0a9-1b8ad1ff8372",
   "metadata": {},
   "outputs": [],
   "source": [
    "linear = LinearRegression() # Criação do Modelo Linear\n",
    "\n",
    "linear.fit(X_treinoN, y_treinoN) # Treinamento do Modelo Linear\n",
    "\n",
    "previsao_linear = linear.predict(X_testeN) # Previsão do modelo linear a partir do treino\n",
    "\n",
    "#print(previsao_linear)"
   ]
  },
  {
   "cell_type": "code",
   "execution_count": 14,
   "id": "8057245b-5319-4a73-80e3-6b9362b82059",
   "metadata": {},
   "outputs": [
    {
     "name": "stdout",
     "output_type": "stream",
     "text": [
      "A RMSE de Regressão linear normalizada foi uma Indice Refrativo de 0.06828991256016625\n"
     ]
    }
   ],
   "source": [
    "# Raiz quadrada do erro quadrático médio para a regressão normalizada\n",
    "\n",
    "y_verdadeiroN = y_testeN\n",
    "y_previsaoN = linear.predict(X_testeN)\n",
    "\n",
    "RMSE = mean_squared_error(y_verdadeiroN, y_previsaoN, squared=False)\n",
    "print(f'A RMSE de Regressão linear normalizada foi uma Indice Refrativo de {RMSE}')"
   ]
  },
  {
   "cell_type": "markdown",
   "id": "814c952d-6cc1-4d49-b4a4-a41f1be19c7f",
   "metadata": {},
   "source": [
    "**Com relação ao RMSE do modelo baseline, houve uma redução ainda maior**"
   ]
  },
  {
   "cell_type": "code",
   "execution_count": 15,
   "id": "2cc8497b-ec2a-4b7d-8f83-e85905b08103",
   "metadata": {},
   "outputs": [
    {
     "data": {
      "text/plain": [
       "Text(0, 0.5, 'Previsão')"
      ]
     },
     "execution_count": 15,
     "metadata": {},
     "output_type": "execute_result"
    },
    {
     "data": {
      "image/png": "[encoded data removed]",
      "text/plain": [
       "<Figure size 432x288 with 1 Axes>"
      ]
     },
     "metadata": {
      "needs_background": "light"
     },
     "output_type": "display_data"
    }
   ],
   "source": [
    "fig, ax2 = plt.subplots(1,1)\n",
    "ax2.scatter(y_verdadeiroN, y_previsaoN, c = 'orange')\n",
    "ax2.plot(y_verdadeiroN,y_verdadeiroN,label=\"y=x\", c = 'r') ; ax2.legend(fontsize='small')\n",
    "if target ==  'Refractive Index':\n",
    "    ax2.set_title('')\n",
    "ax2.set_xlabel('Verdadeiro')\n",
    "ax2.set_ylabel('Previsão')"
   ]
  }
 ],
 "metadata": {
  "kernelspec": {
   "display_name": "ilumpy",
   "language": "python",
   "name": "ilumpy"
  },
  "language_info": {
   "codemirror_mode": {
    "name": "ipython",
    "version": 3
   },
   "file_extension": ".py",
   "mimetype": "text/x-python",
   "name": "python",
   "nbconvert_exporter": "python",
   "pygments_lexer": "ipython3",
   "version": "3.9.7"
  }
 },
 "nbformat": 4,
 "nbformat_minor": 5
}
