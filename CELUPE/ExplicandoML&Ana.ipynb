{
 "cells": [
  {
   "cell_type": "markdown",
   "source": [
    "Pequena Explicação de Arvore de decisão"
   ],
   "metadata": {}
  },
  {
   "cell_type": "markdown",
   "source": [
    "Explicação da Floresta Aleatória"
   ],
   "metadata": {}
  }
 ],
 "metadata": {
  "orig_nbformat": 4,
  "language_info": {
   "name": "python"
  }
 },
 "nbformat": 4,
 "nbformat_minor": 2
}